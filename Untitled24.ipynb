{
  "nbformat": 4,
  "nbformat_minor": 0,
  "metadata": {
    "colab": {
      "provenance": [],
      "authorship_tag": "ABX9TyMPqQsU4t15ue6aV1EXyq4w",
      "include_colab_link": true
    },
    "kernelspec": {
      "name": "python3",
      "display_name": "Python 3"
    },
    "language_info": {
      "name": "python"
    }
  },
  "cells": [
    {
      "cell_type": "markdown",
      "metadata": {
        "id": "view-in-github",
        "colab_type": "text"
      },
      "source": [
        "<a href=\"https://colab.research.google.com/github/Geethika1205/SML/blob/main/Untitled24.ipynb\" target=\"_parent\"><img src=\"https://colab.research.google.com/assets/colab-badge.svg\" alt=\"Open In Colab\"/></a>"
      ]
    },
    {
      "cell_type": "code",
      "execution_count": 1,
      "metadata": {
        "id": "wWV36Dh4qUaQ"
      },
      "outputs": [],
      "source": [
        "import pandas as pd"
      ]
    },
    {
      "cell_type": "code",
      "source": [
        "df=pd.read_csv(\"/content/book2.csv\")"
      ],
      "metadata": {
        "id": "YKuPR9SAqb1E"
      },
      "execution_count": 2,
      "outputs": []
    },
    {
      "cell_type": "code",
      "source": [
        "print(df)"
      ],
      "metadata": {
        "colab": {
          "base_uri": "https://localhost:8080/"
        },
        "id": "asmGteu_qgvm",
        "outputId": "2de082c8-43a3-49e0-cfad-248217bba6fb"
      },
      "execution_count": 3,
      "outputs": [
        {
          "output_type": "stream",
          "name": "stdout",
          "text": [
            "   Feature 1  Feature 2  Feature 3  Feature 4  Target (Y)\n",
            "0        1.2        2.3        3.1        4.2        15.6\n",
            "1        2.4        1.9        2.8        3.5        13.1\n",
            "2        3.5        2.7        1.5        2.9        12.4\n",
            "3        4.1        3.0        3.6        4.8        18.2\n",
            "4        1.9        2.8        2.5        3.2        14.1\n",
            "5        3.7        2.5        1.9        4.0        16.0\n",
            "6        2.1        3.2        2.2        4.1        14.5\n",
            "7        3.3        2.4        3.0        4.5        17.3\n",
            "8        2.8        3.1        1.8        3.6        14.9\n",
            "9        4.0        3.3        2.7        4.9        19.2\n"
          ]
        }
      ]
    },
    {
      "cell_type": "code",
      "source": [
        "y=df['Target (Y)']\n",
        "print(y)"
      ],
      "metadata": {
        "colab": {
          "base_uri": "https://localhost:8080/"
        },
        "id": "T4lLsFzFqiq5",
        "outputId": "f34da4c5-15e1-4493-daa5-418fb752c38c"
      },
      "execution_count": 6,
      "outputs": [
        {
          "output_type": "stream",
          "name": "stdout",
          "text": [
            "0    15.6\n",
            "1    13.1\n",
            "2    12.4\n",
            "3    18.2\n",
            "4    14.1\n",
            "5    16.0\n",
            "6    14.5\n",
            "7    17.3\n",
            "8    14.9\n",
            "9    19.2\n",
            "Name: Target (Y), dtype: float64\n"
          ]
        }
      ]
    },
    {
      "cell_type": "code",
      "source": [
        "x=df.drop('Target (Y)',axis=1)\n",
        "print(x)"
      ],
      "metadata": {
        "id": "RrQyPf5zqnLS",
        "colab": {
          "base_uri": "https://localhost:8080/"
        },
        "outputId": "1704733c-f831-476e-f230-40c77fab5db4"
      },
      "execution_count": 7,
      "outputs": [
        {
          "output_type": "stream",
          "name": "stdout",
          "text": [
            "   Feature 1  Feature 2  Feature 3  Feature 4\n",
            "0        1.2        2.3        3.1        4.2\n",
            "1        2.4        1.9        2.8        3.5\n",
            "2        3.5        2.7        1.5        2.9\n",
            "3        4.1        3.0        3.6        4.8\n",
            "4        1.9        2.8        2.5        3.2\n",
            "5        3.7        2.5        1.9        4.0\n",
            "6        2.1        3.2        2.2        4.1\n",
            "7        3.3        2.4        3.0        4.5\n",
            "8        2.8        3.1        1.8        3.6\n",
            "9        4.0        3.3        2.7        4.9\n"
          ]
        }
      ]
    },
    {
      "cell_type": "code",
      "source": [
        "w0,w1,w2,w3,w4,x0=1,1,1,1,1,1\n",
        "yp=w0*x0+w1*df['Feature 1']+w2*df['Feature 2']+w3*df['Feature 3']+w4*df['Feature 4']"
      ],
      "metadata": {
        "id": "I8MWaBW8QpE5"
      },
      "execution_count": 23,
      "outputs": []
    },
    {
      "cell_type": "code",
      "source": [
        "print(yp)"
      ],
      "metadata": {
        "colab": {
          "base_uri": "https://localhost:8080/"
        },
        "id": "Xu8TXWq5RF-n",
        "outputId": "733187c3-f8ed-4f0f-b000-bf8a011cc507"
      },
      "execution_count": 24,
      "outputs": [
        {
          "output_type": "stream",
          "name": "stdout",
          "text": [
            "0    11.8\n",
            "1    11.6\n",
            "2    11.6\n",
            "3    16.5\n",
            "4    11.4\n",
            "5    13.1\n",
            "6    12.6\n",
            "7    14.2\n",
            "8    12.3\n",
            "9    15.9\n",
            "dtype: float64\n"
          ]
        }
      ]
    },
    {
      "cell_type": "code",
      "source": [
        "error=y-yp\n",
        "print(error)"
      ],
      "metadata": {
        "colab": {
          "base_uri": "https://localhost:8080/"
        },
        "id": "EPC_bah3RHzO",
        "outputId": "2c86cfea-dd9d-43e0-f6a4-09719cb28301"
      },
      "execution_count": 25,
      "outputs": [
        {
          "output_type": "stream",
          "name": "stdout",
          "text": [
            "0    3.8\n",
            "1    1.5\n",
            "2    0.8\n",
            "3    1.7\n",
            "4    2.7\n",
            "5    2.9\n",
            "6    1.9\n",
            "7    3.1\n",
            "8    2.6\n",
            "9    3.3\n",
            "dtype: float64\n"
          ]
        }
      ]
    },
    {
      "cell_type": "code",
      "source": [
        "mean_square_error=(error*error).sum()/9\n",
        "print(mean_square_error)"
      ],
      "metadata": {
        "colab": {
          "base_uri": "https://localhost:8080/"
        },
        "id": "ds-kzY_VRQoJ",
        "outputId": "1d3270a4-e021-4dcc-f6bb-d715f21a1085"
      },
      "execution_count": 26,
      "outputs": [
        {
          "output_type": "stream",
          "name": "stdout",
          "text": [
            "7.42111111111111\n"
          ]
        }
      ]
    },
    {
      "cell_type": "code",
      "source": [
        "wnew0=w0-2*0.001*error.sum()/9+1\n",
        "print(wnew0)"
      ],
      "metadata": {
        "colab": {
          "base_uri": "https://localhost:8080/"
        },
        "id": "VUp1hMZ-Rga_",
        "outputId": "d9176b6d-805d-49ef-9a45-cd631546af23"
      },
      "execution_count": 27,
      "outputs": [
        {
          "output_type": "stream",
          "name": "stdout",
          "text": [
            "1.9946000000000002\n"
          ]
        }
      ]
    },
    {
      "cell_type": "code",
      "source": [
        "wnew1=w1-2*0.001*error.sum()/9+df['Feature 1'].sum()/9\n",
        "print(wnew1)"
      ],
      "metadata": {
        "colab": {
          "base_uri": "https://localhost:8080/"
        },
        "id": "HWk2aKPBR2Xd",
        "outputId": "fae0c23c-687b-43d6-e833-8be7a2b844ae"
      },
      "execution_count": 13,
      "outputs": [
        {
          "output_type": "stream",
          "name": "stdout",
          "text": [
            "4.208\n"
          ]
        }
      ]
    },
    {
      "cell_type": "code",
      "source": [
        "wnew2=w2-2*0.001*error.sum()/9+df['Feature 2'].sum()/9\n",
        "print(wnew2)"
      ],
      "metadata": {
        "colab": {
          "base_uri": "https://localhost:8080/"
        },
        "id": "9r7jIkdxSC_G",
        "outputId": "dd0f2fbd-83c0-470d-a2fa-00290f6fc824"
      },
      "execution_count": 14,
      "outputs": [
        {
          "output_type": "stream",
          "name": "stdout",
          "text": [
            "4.008\n"
          ]
        }
      ]
    },
    {
      "cell_type": "code",
      "source": [
        "wnew3=w3-2*0.001*error.sum()/9+df['Feature 3'].sum()/9\n",
        "print(wnew3)"
      ],
      "metadata": {
        "colab": {
          "base_uri": "https://localhost:8080/"
        },
        "id": "-FviVNQzSO7_",
        "outputId": "8c74fab8-09d9-4084-b98f-98a8dae70bd6"
      },
      "execution_count": 15,
      "outputs": [
        {
          "output_type": "stream",
          "name": "stdout",
          "text": [
            "3.774666666666667\n"
          ]
        }
      ]
    },
    {
      "cell_type": "code",
      "source": [
        "wnew4=w3-2*0.001*error.sum()/9+df['Feature 4'].sum()/9\n",
        "print(wnew4)"
      ],
      "metadata": {
        "colab": {
          "base_uri": "https://localhost:8080/"
        },
        "id": "Mhn7jyy6Uaq6",
        "outputId": "3d3b2480-0678-49c9-f3a8-ff24254bab94"
      },
      "execution_count": 28,
      "outputs": [
        {
          "output_type": "stream",
          "name": "stdout",
          "text": [
            "5.405711111111111\n"
          ]
        }
      ]
    },
    {
      "cell_type": "code",
      "source": [
        "yp=wnew0*x0+wnew1*df['Feature 1']+wnew2*df['Feature 2']+wnew3*df['Feature 3']+wnew4*df['Feature 4']"
      ],
      "metadata": {
        "id": "gaiSI52rSZZj"
      },
      "execution_count": 29,
      "outputs": []
    },
    {
      "cell_type": "code",
      "source": [
        "print(yp)"
      ],
      "metadata": {
        "colab": {
          "base_uri": "https://localhost:8080/"
        },
        "id": "Zv1ccV7sSmBX",
        "outputId": "2bf92e36-c525-4ff2-9800-9a8175af53c1"
      },
      "execution_count": 30,
      "outputs": [
        {
          "output_type": "stream",
          "name": "stdout",
          "text": [
            "0    50.668053\n",
            "1    49.198056\n",
            "2    48.882762\n",
            "3    70.807613\n",
            "4    47.947142\n",
            "5    56.378911\n",
            "6    54.124682\n",
            "7    61.149900\n",
            "8    52.456760\n",
            "9    68.732584\n",
            "dtype: float64\n"
          ]
        }
      ]
    },
    {
      "cell_type": "code",
      "source": [
        "error=y-yp\n",
        "print(error)"
      ],
      "metadata": {
        "colab": {
          "base_uri": "https://localhost:8080/"
        },
        "id": "lkgH1znfSopV",
        "outputId": "31df4cae-e35b-4762-e16d-9c9fea3cbb88"
      },
      "execution_count": 31,
      "outputs": [
        {
          "output_type": "stream",
          "name": "stdout",
          "text": [
            "0   -35.068053\n",
            "1   -36.098056\n",
            "2   -36.482762\n",
            "3   -52.607613\n",
            "4   -33.847142\n",
            "5   -40.378911\n",
            "6   -39.624682\n",
            "7   -43.849900\n",
            "8   -37.556760\n",
            "9   -49.532584\n",
            "dtype: float64\n"
          ]
        }
      ]
    },
    {
      "cell_type": "code",
      "source": [
        "mse=(error*error).sum()/9\n",
        "print(mse)"
      ],
      "metadata": {
        "colab": {
          "base_uri": "https://localhost:8080/"
        },
        "id": "AzKjYDJCSvRu",
        "outputId": "5c2b1a31-abcd-4556-a395-f9b5e206982d"
      },
      "execution_count": 32,
      "outputs": [
        {
          "output_type": "stream",
          "name": "stdout",
          "text": [
            "1862.7103014744744\n"
          ]
        }
      ]
    },
    {
      "cell_type": "code",
      "source": [
        "wn0=wnew0-2*0.001*error.sum()/9+1\n",
        "print(wn0)"
      ],
      "metadata": {
        "colab": {
          "base_uri": "https://localhost:8080/"
        },
        "id": "ubLCxZqkS2yU",
        "outputId": "ece66f94-5f33-42cd-a89d-a58dd3aff1e9"
      },
      "execution_count": 33,
      "outputs": [
        {
          "output_type": "stream",
          "name": "stdout",
          "text": [
            "3.084610325432099\n"
          ]
        }
      ]
    },
    {
      "cell_type": "code",
      "source": [
        "wn1=wnew1-2*0.001*error.sum()/9+df['Feature 1'].sum()/9\n",
        "print(wn1)"
      ],
      "metadata": {
        "colab": {
          "base_uri": "https://localhost:8080/"
        },
        "id": "wbnsDtqhTNXa",
        "outputId": "81e9e9ee-0589-4b84-9250-4564fda67529"
      },
      "execution_count": 34,
      "outputs": [
        {
          "output_type": "stream",
          "name": "stdout",
          "text": [
            "7.520232547654321\n"
          ]
        }
      ]
    },
    {
      "cell_type": "code",
      "source": [
        "wn2=wnew2-2*0.001*error.sum()/9+df['Feature 2'].sum()/9\n",
        "print(wn2)"
      ],
      "metadata": {
        "colab": {
          "base_uri": "https://localhost:8080/"
        },
        "id": "wjnp9EWiTXvT",
        "outputId": "2bb5b280-8e62-4509-e64b-e10a1bc30c22"
      },
      "execution_count": 35,
      "outputs": [
        {
          "output_type": "stream",
          "name": "stdout",
          "text": [
            "7.120232547654321\n"
          ]
        }
      ]
    },
    {
      "cell_type": "code",
      "source": [
        "wn3=wnew3-2*0.001*error.sum()/9+df['Feature 3'].sum()/9\n",
        "print(wn3)"
      ],
      "metadata": {
        "colab": {
          "base_uri": "https://localhost:8080/"
        },
        "id": "IyxYmGBTT5mQ",
        "outputId": "c1c64dc7-8029-42af-83b7-9221db0fd36d"
      },
      "execution_count": 36,
      "outputs": [
        {
          "output_type": "stream",
          "name": "stdout",
          "text": [
            "6.653565880987655\n"
          ]
        }
      ]
    },
    {
      "cell_type": "code",
      "source": [
        "wn4=wnew4-2*0.001*error.sum()/9+df['Feature 4'].sum()/9\n",
        "print(wn4)"
      ],
      "metadata": {
        "colab": {
          "base_uri": "https://localhost:8080/"
        },
        "id": "GcdOrOE-VJEC",
        "outputId": "cd0e5671-ceff-401b-dbae-221a7cd552e1"
      },
      "execution_count": 37,
      "outputs": [
        {
          "output_type": "stream",
          "name": "stdout",
          "text": [
            "9.90683254765432\n"
          ]
        }
      ]
    },
    {
      "cell_type": "code",
      "source": [
        "yp=wn0*x0+wn1*df['Feature 1']+wn2*df['Feature 2']+wn3*df['Feature 3']+wn4*df['Feature 4']"
      ],
      "metadata": {
        "id": "ep1aNu_nVT0M"
      },
      "execution_count": 38,
      "outputs": []
    },
    {
      "cell_type": "code",
      "source": [
        "print(yp)"
      ],
      "metadata": {
        "colab": {
          "base_uri": "https://localhost:8080/"
        },
        "id": "POeHb5Q1VgAV",
        "outputId": "ba311821-06a1-4904-9651-25750e768e95"
      },
      "execution_count": 39,
      "outputs": [
        {
          "output_type": "stream",
          "name": "stdout",
          "text": [
            "0     90.720175\n",
            "1     87.965509\n",
            "2     87.340215\n",
            "3    126.783895\n",
            "4     85.645482\n",
            "5    100.979157\n",
            "6     96.917701\n",
            "7    109.531380\n",
            "8     93.854998\n",
            "9    123.170415\n",
            "dtype: float64\n"
          ]
        }
      ]
    },
    {
      "cell_type": "code",
      "source": [
        "error=y-yp\n",
        "print(error)"
      ],
      "metadata": {
        "colab": {
          "base_uri": "https://localhost:8080/"
        },
        "id": "JqDtCqt-ViN3",
        "outputId": "cc1ad7d7-dda7-4f6c-bb29-9fc137f14b99"
      },
      "execution_count": 40,
      "outputs": [
        {
          "output_type": "stream",
          "name": "stdout",
          "text": [
            "0    -75.120175\n",
            "1    -74.865509\n",
            "2    -74.940215\n",
            "3   -108.583895\n",
            "4    -71.545482\n",
            "5    -84.979157\n",
            "6    -82.417701\n",
            "7    -92.231380\n",
            "8    -78.954998\n",
            "9   -103.970415\n",
            "dtype: float64\n"
          ]
        }
      ]
    },
    {
      "cell_type": "code",
      "source": [
        "mm=(error*error).sum()/9\n",
        "print(mm)"
      ],
      "metadata": {
        "colab": {
          "base_uri": "https://localhost:8080/"
        },
        "id": "GNMVf5OoVlNi",
        "outputId": "c11dd699-b52b-4408-c344-6a010a444bad"
      },
      "execution_count": 41,
      "outputs": [
        {
          "output_type": "stream",
          "name": "stdout",
          "text": [
            "8148.626702123645\n"
          ]
        }
      ]
    },
    {
      "cell_type": "code",
      "source": [],
      "metadata": {
        "id": "0LAUHZ9SVvBL"
      },
      "execution_count": null,
      "outputs": []
    }
  ]
}