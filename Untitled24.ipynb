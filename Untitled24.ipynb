{
  "nbformat": 4,
  "nbformat_minor": 0,
  "metadata": {
    "colab": {
      "provenance": [],
      "authorship_tag": "ABX9TyNVefD5urvTjRmMkWGIdDSu",
      "include_colab_link": true
    },
    "kernelspec": {
      "name": "python3",
      "display_name": "Python 3"
    },
    "language_info": {
      "name": "python"
    }
  },
  "cells": [
    {
      "cell_type": "markdown",
      "metadata": {
        "id": "view-in-github",
        "colab_type": "text"
      },
      "source": [
        "<a href=\"https://colab.research.google.com/github/Geethika1205/SML/blob/main/Untitled24.ipynb\" target=\"_parent\"><img src=\"https://colab.research.google.com/assets/colab-badge.svg\" alt=\"Open In Colab\"/></a>"
      ]
    },
    {
      "cell_type": "code",
      "execution_count": 2,
      "metadata": {
        "id": "wWV36Dh4qUaQ"
      },
      "outputs": [],
      "source": [
        "import pandas as pd"
      ]
    },
    {
      "cell_type": "code",
      "source": [
        "df=pd.read_csv(\"/content/book2.csv\")"
      ],
      "metadata": {
        "id": "YKuPR9SAqb1E"
      },
      "execution_count": 3,
      "outputs": []
    },
    {
      "cell_type": "code",
      "source": [
        "print(df)"
      ],
      "metadata": {
        "colab": {
          "base_uri": "https://localhost:8080/"
        },
        "id": "asmGteu_qgvm",
        "outputId": "dc765802-59a5-4594-a990-be57ffb9e1da"
      },
      "execution_count": 4,
      "outputs": [
        {
          "output_type": "stream",
          "name": "stdout",
          "text": [
            "   Feature 1  Feature 2  Feature 3  Feature 4  Target (Y)\n",
            "0        1.2        2.3        3.1        4.2        15.6\n",
            "1        2.4        1.9        2.8        3.5        13.1\n",
            "2        3.5        2.7        1.5        2.9        12.4\n",
            "3        4.1        3.0        3.6        4.8        18.2\n",
            "4        1.9        2.8        2.5        3.2        14.1\n",
            "5        3.7        2.5        1.9        4.0        16.0\n",
            "6        2.1        3.2        2.2        4.1        14.5\n",
            "7        3.3        2.4        3.0        4.5        17.3\n",
            "8        2.8        3.1        1.8        3.6        14.9\n",
            "9        4.0        3.3        2.7        4.9        19.2\n"
          ]
        }
      ]
    },
    {
      "cell_type": "code",
      "source": [
        "y=df['Target (Y)']\n",
        "print(y)"
      ],
      "metadata": {
        "colab": {
          "base_uri": "https://localhost:8080/"
        },
        "id": "T4lLsFzFqiq5",
        "outputId": "3332a2eb-c073-4422-c9de-79dfd87e8839"
      },
      "execution_count": 5,
      "outputs": [
        {
          "output_type": "stream",
          "name": "stdout",
          "text": [
            "0    15.6\n",
            "1    13.1\n",
            "2    12.4\n",
            "3    18.2\n",
            "4    14.1\n",
            "5    16.0\n",
            "6    14.5\n",
            "7    17.3\n",
            "8    14.9\n",
            "9    19.2\n",
            "Name: Target (Y), dtype: float64\n"
          ]
        }
      ]
    },
    {
      "cell_type": "code",
      "source": [
        "x=df.drop('Target (Y)',axis=1)\n",
        "print(x)"
      ],
      "metadata": {
        "id": "RrQyPf5zqnLS",
        "colab": {
          "base_uri": "https://localhost:8080/"
        },
        "outputId": "299d393b-50c5-4713-88d1-bed699e9deaf"
      },
      "execution_count": 6,
      "outputs": [
        {
          "output_type": "stream",
          "name": "stdout",
          "text": [
            "   Feature 1  Feature 2  Feature 3  Feature 4\n",
            "0        1.2        2.3        3.1        4.2\n",
            "1        2.4        1.9        2.8        3.5\n",
            "2        3.5        2.7        1.5        2.9\n",
            "3        4.1        3.0        3.6        4.8\n",
            "4        1.9        2.8        2.5        3.2\n",
            "5        3.7        2.5        1.9        4.0\n",
            "6        2.1        3.2        2.2        4.1\n",
            "7        3.3        2.4        3.0        4.5\n",
            "8        2.8        3.1        1.8        3.6\n",
            "9        4.0        3.3        2.7        4.9\n"
          ]
        }
      ]
    },
    {
      "cell_type": "code",
      "source": [
        "w0,w1,w2,w3,w4,x0=1,1,1,1,1,1\n",
        "yp=w0*x0+w1*df['Feature 1']+w2*df['Feature 2']+w3*df['Feature 3']+w4*df['Feature 4']"
      ],
      "metadata": {
        "id": "I8MWaBW8QpE5"
      },
      "execution_count": 7,
      "outputs": []
    },
    {
      "cell_type": "code",
      "source": [
        "print(yp)"
      ],
      "metadata": {
        "colab": {
          "base_uri": "https://localhost:8080/"
        },
        "id": "Xu8TXWq5RF-n",
        "outputId": "e088a78a-796b-4c3e-deb1-582db63b3d71"
      },
      "execution_count": 8,
      "outputs": [
        {
          "output_type": "stream",
          "name": "stdout",
          "text": [
            "0    11.8\n",
            "1    11.6\n",
            "2    11.6\n",
            "3    16.5\n",
            "4    11.4\n",
            "5    13.1\n",
            "6    12.6\n",
            "7    14.2\n",
            "8    12.3\n",
            "9    15.9\n",
            "dtype: float64\n"
          ]
        }
      ]
    },
    {
      "cell_type": "code",
      "source": [
        "error=y-yp\n",
        "print(error)"
      ],
      "metadata": {
        "colab": {
          "base_uri": "https://localhost:8080/"
        },
        "id": "EPC_bah3RHzO",
        "outputId": "94bcfd6f-f1c8-4a9e-c790-21475ca9b7bd"
      },
      "execution_count": 9,
      "outputs": [
        {
          "output_type": "stream",
          "name": "stdout",
          "text": [
            "0    3.8\n",
            "1    1.5\n",
            "2    0.8\n",
            "3    1.7\n",
            "4    2.7\n",
            "5    2.9\n",
            "6    1.9\n",
            "7    3.1\n",
            "8    2.6\n",
            "9    3.3\n",
            "dtype: float64\n"
          ]
        }
      ]
    },
    {
      "cell_type": "code",
      "source": [
        "mean_square_error=(error*error).sum()/10\n",
        "print(mean_square_error)"
      ],
      "metadata": {
        "colab": {
          "base_uri": "https://localhost:8080/"
        },
        "id": "ds-kzY_VRQoJ",
        "outputId": "ac2d03ff-90d0-4a9c-f70f-7763c32b1de3"
      },
      "execution_count": 10,
      "outputs": [
        {
          "output_type": "stream",
          "name": "stdout",
          "text": [
            "6.678999999999999\n"
          ]
        }
      ]
    },
    {
      "cell_type": "code",
      "source": [
        "wnew0=w0-2*0.001*error.sum()/10+1\n",
        "print(wnew0)"
      ],
      "metadata": {
        "colab": {
          "base_uri": "https://localhost:8080/"
        },
        "id": "VUp1hMZ-Rga_",
        "outputId": "3817db2d-7324-4c16-91df-5f9bedd2c681"
      },
      "execution_count": 13,
      "outputs": [
        {
          "output_type": "stream",
          "name": "stdout",
          "text": [
            "1.9951400000000001\n"
          ]
        }
      ]
    },
    {
      "cell_type": "code",
      "source": [
        "wnew1=w1-2*0.001*error.sum()/10+df['Feature 1'].sum()/10\n",
        "print(wnew1)"
      ],
      "metadata": {
        "colab": {
          "base_uri": "https://localhost:8080/"
        },
        "id": "HWk2aKPBR2Xd",
        "outputId": "8c21e283-6af5-49cb-9356-ffe954097b06"
      },
      "execution_count": 14,
      "outputs": [
        {
          "output_type": "stream",
          "name": "stdout",
          "text": [
            "3.89514\n"
          ]
        }
      ]
    },
    {
      "cell_type": "code",
      "source": [
        "wnew2=w2-2*0.001*error.sum()/10+df['Feature 2'].sum()/10\n",
        "print(wnew2)"
      ],
      "metadata": {
        "colab": {
          "base_uri": "https://localhost:8080/"
        },
        "id": "9r7jIkdxSC_G",
        "outputId": "622fa31d-5989-49d5-a270-5f09be2d93db"
      },
      "execution_count": 15,
      "outputs": [
        {
          "output_type": "stream",
          "name": "stdout",
          "text": [
            "3.71514\n"
          ]
        }
      ]
    },
    {
      "cell_type": "code",
      "source": [
        "wnew3=w3-2*0.001*error.sum()/10+df['Feature 3'].sum()/10\n",
        "print(wnew3)"
      ],
      "metadata": {
        "colab": {
          "base_uri": "https://localhost:8080/"
        },
        "id": "-FviVNQzSO7_",
        "outputId": "58dc68c7-1a08-4646-fe2a-4367960157de"
      },
      "execution_count": 16,
      "outputs": [
        {
          "output_type": "stream",
          "name": "stdout",
          "text": [
            "3.5051400000000004\n"
          ]
        }
      ]
    },
    {
      "cell_type": "code",
      "source": [
        "wnew4=w3-2*0.001*error.sum()/10+df['Feature 4'].sum()/10\n",
        "print(wnew4)"
      ],
      "metadata": {
        "colab": {
          "base_uri": "https://localhost:8080/"
        },
        "id": "Mhn7jyy6Uaq6",
        "outputId": "179df625-33e6-46ee-d1ca-cdf345cb221d"
      },
      "execution_count": 17,
      "outputs": [
        {
          "output_type": "stream",
          "name": "stdout",
          "text": [
            "4.96514\n"
          ]
        }
      ]
    },
    {
      "cell_type": "code",
      "source": [
        "yp=wnew0*x0+wnew1*df['Feature 1']+wnew2*df['Feature 2']+wnew3*df['Feature 3']+wnew4*df['Feature 4']"
      ],
      "metadata": {
        "id": "gaiSI52rSZZj"
      },
      "execution_count": 18,
      "outputs": []
    },
    {
      "cell_type": "code",
      "source": [
        "print(yp)"
      ],
      "metadata": {
        "colab": {
          "base_uri": "https://localhost:8080/"
        },
        "id": "Zv1ccV7sSmBX",
        "outputId": "2cb77597-57d5-4592-f4e7-472a4cd948df"
      },
      "execution_count": 19,
      "outputs": [
        {
          "output_type": "stream",
          "name": "stdout",
          "text": [
            "0    46.933652\n",
            "1    45.594624\n",
            "2    45.315624\n",
            "3    65.561810\n",
            "4    44.449596\n",
            "5    52.215334\n",
            "6    50.131764\n",
            "7    56.623988\n",
            "8    48.602222\n",
            "9    63.628726\n",
            "dtype: float64\n"
          ]
        }
      ]
    },
    {
      "cell_type": "code",
      "source": [
        "error=y-yp\n",
        "print(error)"
      ],
      "metadata": {
        "colab": {
          "base_uri": "https://localhost:8080/"
        },
        "id": "lkgH1znfSopV",
        "outputId": "a811832d-04e4-47ac-b387-dfada1f5c7b1"
      },
      "execution_count": 20,
      "outputs": [
        {
          "output_type": "stream",
          "name": "stdout",
          "text": [
            "0   -31.333652\n",
            "1   -32.494624\n",
            "2   -32.915624\n",
            "3   -47.361810\n",
            "4   -30.349596\n",
            "5   -36.215334\n",
            "6   -35.631764\n",
            "7   -39.323988\n",
            "8   -33.702222\n",
            "9   -44.428726\n",
            "dtype: float64\n"
          ]
        }
      ]
    },
    {
      "cell_type": "code",
      "source": [
        "mse=(error*error).sum()/10\n",
        "print(mse)"
      ],
      "metadata": {
        "colab": {
          "base_uri": "https://localhost:8080/"
        },
        "id": "AzKjYDJCSvRu",
        "outputId": "3b5149e9-9e1a-4402-ef06-aa468c935eec"
      },
      "execution_count": 22,
      "outputs": [
        {
          "output_type": "stream",
          "name": "stdout",
          "text": [
            "1352.2676180134927\n"
          ]
        }
      ]
    },
    {
      "cell_type": "code",
      "source": [
        "wn0=wnew0-2*0.001*error.sum()/10+1\n",
        "print(wn0)"
      ],
      "metadata": {
        "colab": {
          "base_uri": "https://localhost:8080/"
        },
        "id": "ubLCxZqkS2yU",
        "outputId": "796b13d6-8472-4e08-89b3-96700c1df1ad"
      },
      "execution_count": 23,
      "outputs": [
        {
          "output_type": "stream",
          "name": "stdout",
          "text": [
            "3.067891468\n"
          ]
        }
      ]
    },
    {
      "cell_type": "code",
      "source": [
        "wn1=wnew1-2*0.001*error.sum()/10+df['Feature 1'].sum()/10\n",
        "print(wn1)"
      ],
      "metadata": {
        "colab": {
          "base_uri": "https://localhost:8080/"
        },
        "id": "wbnsDtqhTNXa",
        "outputId": "ee0d4b82-4a10-4c18-c1fb-79e7cd9e6062"
      },
      "execution_count": 24,
      "outputs": [
        {
          "output_type": "stream",
          "name": "stdout",
          "text": [
            "6.867891468\n"
          ]
        }
      ]
    },
    {
      "cell_type": "code",
      "source": [
        "wn2=wnew2-2*0.001*error.sum()/10+df['Feature 2'].sum()/10\n",
        "print(wn2)"
      ],
      "metadata": {
        "colab": {
          "base_uri": "https://localhost:8080/"
        },
        "id": "wjnp9EWiTXvT",
        "outputId": "da0fcba9-27ad-40f1-8024-0fdb4377fca2"
      },
      "execution_count": 25,
      "outputs": [
        {
          "output_type": "stream",
          "name": "stdout",
          "text": [
            "6.5078914679999995\n"
          ]
        }
      ]
    },
    {
      "cell_type": "code",
      "source": [
        "wn3=wnew3-2*0.001*error.sum()/10+df['Feature 3'].sum()/10\n",
        "print(wn3)"
      ],
      "metadata": {
        "colab": {
          "base_uri": "https://localhost:8080/"
        },
        "id": "IyxYmGBTT5mQ",
        "outputId": "be67d6ae-ba6d-49dc-ba89-6315734f8166"
      },
      "execution_count": 26,
      "outputs": [
        {
          "output_type": "stream",
          "name": "stdout",
          "text": [
            "6.0878914680000005\n"
          ]
        }
      ]
    },
    {
      "cell_type": "code",
      "source": [
        "wn4=wnew4-2*0.001*error.sum()/10+df['Feature 4'].sum()/10\n",
        "print(wn4)"
      ],
      "metadata": {
        "colab": {
          "base_uri": "https://localhost:8080/"
        },
        "id": "GcdOrOE-VJEC",
        "outputId": "66a1f89d-9498-4c46-d173-a16eac6ade57"
      },
      "execution_count": 27,
      "outputs": [
        {
          "output_type": "stream",
          "name": "stdout",
          "text": [
            "9.007891468\n"
          ]
        }
      ]
    },
    {
      "cell_type": "code",
      "source": [
        "yp=wn0*x0+wn1*df['Feature 1']+wn2*df['Feature 2']+wn3*df['Feature 3']+wn4*df['Feature 4']"
      ],
      "metadata": {
        "id": "ep1aNu_nVT0M"
      },
      "execution_count": 28,
      "outputs": []
    },
    {
      "cell_type": "code",
      "source": [
        "print(yp)"
      ],
      "metadata": {
        "colab": {
          "base_uri": "https://localhost:8080/"
        },
        "id": "POeHb5Q1VgAV",
        "outputId": "7db30494-55fb-41a5-d1cf-ab137323d02f"
      },
      "execution_count": 29,
      "outputs": [
        {
          "output_type": "stream",
          "name": "stdout",
          "text": [
            "0     82.983119\n",
            "1     80.489541\n",
            "2     79.931541\n",
            "3    115.904209\n",
            "4     78.383963\n",
            "5     92.347378\n",
            "6     88.641432\n",
            "7    100.150059\n",
            "8     85.859065\n",
            "9    112.591474\n",
            "dtype: float64\n"
          ]
        }
      ]
    },
    {
      "cell_type": "code",
      "source": [
        "error=y-yp\n",
        "print(error)"
      ],
      "metadata": {
        "colab": {
          "base_uri": "https://localhost:8080/"
        },
        "id": "JqDtCqt-ViN3",
        "outputId": "28c9d59c-ffe8-4cd5-b66e-238b9f3ed228"
      },
      "execution_count": 30,
      "outputs": [
        {
          "output_type": "stream",
          "name": "stdout",
          "text": [
            "0   -67.383119\n",
            "1   -67.389541\n",
            "2   -67.531541\n",
            "3   -97.704209\n",
            "4   -64.283963\n",
            "5   -76.347378\n",
            "6   -74.141432\n",
            "7   -82.850059\n",
            "8   -70.959065\n",
            "9   -93.391474\n",
            "dtype: float64\n"
          ]
        }
      ]
    },
    {
      "cell_type": "code",
      "source": [
        "mm=(error*error).sum()/9\n",
        "print(mm)"
      ],
      "metadata": {
        "colab": {
          "base_uri": "https://localhost:8080/"
        },
        "id": "GNMVf5OoVlNi",
        "outputId": "c5abb119-3c7b-4ef2-b26a-3e4dacd98e06"
      },
      "execution_count": 31,
      "outputs": [
        {
          "output_type": "stream",
          "name": "stdout",
          "text": [
            "6585.338580829526\n"
          ]
        }
      ]
    },
    {
      "cell_type": "code",
      "source": [],
      "metadata": {
        "id": "0LAUHZ9SVvBL"
      },
      "execution_count": null,
      "outputs": []
    }
  ]
}