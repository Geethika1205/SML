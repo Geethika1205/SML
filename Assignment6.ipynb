{
  "nbformat": 4,
  "nbformat_minor": 0,
  "metadata": {
    "colab": {
      "provenance": [],
      "authorship_tag": "ABX9TyPszY9UrIUeP+n5B5FVIee9",
      "include_colab_link": true
    },
    "kernelspec": {
      "name": "python3",
      "display_name": "Python 3"
    },
    "language_info": {
      "name": "python"
    }
  },
  "cells": [
    {
      "cell_type": "markdown",
      "metadata": {
        "id": "view-in-github",
        "colab_type": "text"
      },
      "source": [
        "<a href=\"https://colab.research.google.com/github/Geethika1205/SML/blob/main/Assignment6.ipynb\" target=\"_parent\"><img src=\"https://colab.research.google.com/assets/colab-badge.svg\" alt=\"Open In Colab\"/></a>"
      ]
    },
    {
      "cell_type": "code",
      "execution_count": 45,
      "metadata": {
        "id": "m8M-uzHvl8WD"
      },
      "outputs": [],
      "source": [
        "import pandas as pd"
      ]
    },
    {
      "cell_type": "code",
      "source": [
        "df=pd.read_csv(\"/content/diabetes_data_upload (1).csv\")"
      ],
      "metadata": {
        "id": "HANdAzRYmERS"
      },
      "execution_count": 30,
      "outputs": []
    },
    {
      "cell_type": "code",
      "source": [
        "print(df)"
      ],
      "metadata": {
        "colab": {
          "base_uri": "https://localhost:8080/"
        },
        "id": "p40rUnYcmJ2o",
        "outputId": "ee18b309-0a45-4efb-ddc7-ae3faca4cfe3"
      },
      "execution_count": 3,
      "outputs": [
        {
          "output_type": "stream",
          "name": "stdout",
          "text": [
            "     Age  Gender Polyuria Polydipsia sudden weight loss weakness Polyphagia  \\\n",
            "0     40    Male       No        Yes                 No      Yes         No   \n",
            "1     58    Male       No         No                 No      Yes         No   \n",
            "2     41    Male      Yes         No                 No      Yes        Yes   \n",
            "3     45    Male       No         No                Yes      Yes        Yes   \n",
            "4     60    Male      Yes        Yes                Yes      Yes        Yes   \n",
            "..   ...     ...      ...        ...                ...      ...        ...   \n",
            "515   39  Female      Yes        Yes                Yes       No        Yes   \n",
            "516   48  Female      Yes        Yes                Yes      Yes        Yes   \n",
            "517   58  Female      Yes        Yes                Yes      Yes        Yes   \n",
            "518   32  Female       No         No                 No      Yes         No   \n",
            "519   42    Male       No         No                 No       No         No   \n",
            "\n",
            "    Genital thrush visual blurring Itching Irritability delayed healing  \\\n",
            "0               No              No     Yes           No             Yes   \n",
            "1               No             Yes      No           No              No   \n",
            "2               No              No     Yes           No             Yes   \n",
            "3              Yes              No     Yes           No             Yes   \n",
            "4               No             Yes     Yes          Yes             Yes   \n",
            "..             ...             ...     ...          ...             ...   \n",
            "515             No              No     Yes           No             Yes   \n",
            "516             No              No     Yes          Yes             Yes   \n",
            "517             No             Yes      No           No              No   \n",
            "518             No             Yes     Yes           No             Yes   \n",
            "519             No              No      No           No              No   \n",
            "\n",
            "    partial paresis muscle stiffness Alopecia Obesity     class  \n",
            "0                No              Yes      Yes     Yes  Positive  \n",
            "1               Yes               No      Yes      No  Positive  \n",
            "2                No              Yes      Yes      No  Positive  \n",
            "3                No               No       No      No  Positive  \n",
            "4               Yes              Yes      Yes     Yes  Positive  \n",
            "..              ...              ...      ...     ...       ...  \n",
            "515             Yes               No       No      No  Positive  \n",
            "516             Yes               No       No      No  Positive  \n",
            "517             Yes              Yes       No     Yes  Positive  \n",
            "518              No               No      Yes      No  Negative  \n",
            "519              No               No       No      No  Negative  \n",
            "\n",
            "[520 rows x 17 columns]\n"
          ]
        }
      ]
    },
    {
      "cell_type": "code",
      "source": [
        "t=df[\"class\"]\n",
        "print(t)\n"
      ],
      "metadata": {
        "colab": {
          "base_uri": "https://localhost:8080/"
        },
        "id": "TiiqdojFmL8I",
        "outputId": "ac75763c-fdf1-43ae-e02c-53606c932dac"
      },
      "execution_count": 40,
      "outputs": [
        {
          "output_type": "stream",
          "name": "stdout",
          "text": [
            "0    1\n",
            "1    1\n",
            "2    1\n",
            "3    1\n",
            "4    1\n",
            "5    1\n",
            "6    1\n",
            "7    1\n",
            "8   -1\n",
            "9   -1\n",
            "Name: class, dtype: int64\n"
          ]
        }
      ]
    },
    {
      "cell_type": "code",
      "source": [
        "f=df.drop(\"class\",axis=1)\n",
        "print(f)"
      ],
      "metadata": {
        "colab": {
          "base_uri": "https://localhost:8080/"
        },
        "id": "llldRJ9HmVBP",
        "outputId": "1354cb8f-c787-4958-bfd0-fb8d748986f3"
      },
      "execution_count": 5,
      "outputs": [
        {
          "output_type": "stream",
          "name": "stdout",
          "text": [
            "     Age  Gender Polyuria Polydipsia sudden weight loss weakness Polyphagia  \\\n",
            "0     40    Male       No        Yes                 No      Yes         No   \n",
            "1     58    Male       No         No                 No      Yes         No   \n",
            "2     41    Male      Yes         No                 No      Yes        Yes   \n",
            "3     45    Male       No         No                Yes      Yes        Yes   \n",
            "4     60    Male      Yes        Yes                Yes      Yes        Yes   \n",
            "..   ...     ...      ...        ...                ...      ...        ...   \n",
            "515   39  Female      Yes        Yes                Yes       No        Yes   \n",
            "516   48  Female      Yes        Yes                Yes      Yes        Yes   \n",
            "517   58  Female      Yes        Yes                Yes      Yes        Yes   \n",
            "518   32  Female       No         No                 No      Yes         No   \n",
            "519   42    Male       No         No                 No       No         No   \n",
            "\n",
            "    Genital thrush visual blurring Itching Irritability delayed healing  \\\n",
            "0               No              No     Yes           No             Yes   \n",
            "1               No             Yes      No           No              No   \n",
            "2               No              No     Yes           No             Yes   \n",
            "3              Yes              No     Yes           No             Yes   \n",
            "4               No             Yes     Yes          Yes             Yes   \n",
            "..             ...             ...     ...          ...             ...   \n",
            "515             No              No     Yes           No             Yes   \n",
            "516             No              No     Yes          Yes             Yes   \n",
            "517             No             Yes      No           No              No   \n",
            "518             No             Yes     Yes           No             Yes   \n",
            "519             No              No      No           No              No   \n",
            "\n",
            "    partial paresis muscle stiffness Alopecia Obesity  \n",
            "0                No              Yes      Yes     Yes  \n",
            "1               Yes               No      Yes      No  \n",
            "2                No              Yes      Yes      No  \n",
            "3                No               No       No      No  \n",
            "4               Yes              Yes      Yes     Yes  \n",
            "..              ...              ...      ...     ...  \n",
            "515             Yes               No       No      No  \n",
            "516             Yes               No       No      No  \n",
            "517             Yes              Yes       No     Yes  \n",
            "518              No               No      Yes      No  \n",
            "519              No               No       No      No  \n",
            "\n",
            "[520 rows x 16 columns]\n"
          ]
        }
      ]
    },
    {
      "cell_type": "code",
      "source": [
        "import pandas as pd\n",
        "\n",
        "# Sample data creation (if loading from CSV, skip this step)\n",
        "data = {\n",
        "    'Age': [40, 58, 41, 45, 60, 39, 48, 58, 32, 42],\n",
        "    'Gender': ['Male', 'Male', 'Male', 'Male', 'Male', 'Female', 'Female', 'Female', 'Female', 'Male'],\n",
        "    'Polyuria': ['No', 'No', 'Yes', 'No', 'Yes', 'Yes', 'Yes', 'Yes', 'No', 'No'],\n",
        "    'Polydipsia': ['Yes', 'No', 'No', 'No', 'Yes', 'Yes', 'Yes', 'Yes', 'No', 'No'],\n",
        "    'Sudden weight loss': ['No', 'No', 'No', 'Yes', 'Yes', 'Yes', 'Yes', 'Yes', 'No', 'No'],\n",
        "    'Weakness': ['Yes', 'Yes', 'Yes', 'Yes', 'Yes', 'No', 'Yes', 'Yes', 'Yes', 'No'],\n",
        "    'Polyphagia': ['No', 'No', 'Yes', 'Yes', 'Yes', 'Yes', 'Yes', 'Yes', 'No', 'No'],\n",
        "    'Genital thrush': ['No', 'No', 'No', 'Yes', 'No', 'No', 'No', 'No', 'No', 'No'],\n",
        "    'Visual blurring': ['No', 'Yes', 'No', 'No', 'Yes', 'No', 'No', 'Yes', 'Yes', 'No'],\n",
        "    'Itching': ['Yes', 'No', 'Yes', 'Yes', 'Yes', 'Yes', 'Yes', 'No', 'Yes', 'No'],\n",
        "    'Irritability': ['No', 'No', 'No', 'No', 'Yes', 'No', 'Yes', 'No', 'No', 'No'],\n",
        "    'Delayed healing': ['Yes', 'No', 'Yes', 'Yes', 'Yes', 'Yes', 'Yes', 'No', 'Yes', 'No'],\n",
        "    'Partial paresis': ['No', 'Yes', 'No', 'No', 'Yes', 'Yes', 'Yes', 'Yes', 'No', 'No'],\n",
        "    'Muscle stiffness': ['Yes', 'No', 'Yes', 'No', 'Yes', 'No', 'No', 'Yes', 'No', 'No'],\n",
        "    'Alopecia': ['Yes', 'Yes', 'Yes', 'No', 'Yes', 'No', 'No', 'No', 'Yes', 'No'],\n",
        "    'Obesity': ['Yes', 'No', 'No', 'No', 'Yes', 'No', 'Yes', 'Yes', 'No', 'No'],\n",
        "    'class':['Positive','Positive','Positive','Positive','Positive','Positive','Positive','Positive','Negative','Negative']\n",
        "}\n",
        "\n",
        "df = pd.DataFrame(data)\n",
        "\n",
        "\n",
        "df.replace({'Yes': 1, 'No': 0}, inplace=True)\n",
        "df.replace({'Female':1, 'Male':0},inplace=True)\n",
        "df.replace({'Positive':1,'Negative':-1},inplace=True)\n",
        "\n",
        "\n",
        "print(df)"
      ],
      "metadata": {
        "colab": {
          "base_uri": "https://localhost:8080/"
        },
        "id": "76LV32ntmcvy",
        "outputId": "911ff839-8b15-40f3-8ac4-44674557d31d"
      },
      "execution_count": 46,
      "outputs": [
        {
          "output_type": "stream",
          "name": "stdout",
          "text": [
            "   Age  Gender  Polyuria  Polydipsia  Sudden weight loss  Weakness  \\\n",
            "0   40       0         0           1                   0         1   \n",
            "1   58       0         0           0                   0         1   \n",
            "2   41       0         1           0                   0         1   \n",
            "3   45       0         0           0                   1         1   \n",
            "4   60       0         1           1                   1         1   \n",
            "5   39       1         1           1                   1         0   \n",
            "6   48       1         1           1                   1         1   \n",
            "7   58       1         1           1                   1         1   \n",
            "8   32       1         0           0                   0         1   \n",
            "9   42       0         0           0                   0         0   \n",
            "\n",
            "   Polyphagia  Genital thrush  Visual blurring  Itching  Irritability  \\\n",
            "0           0               0                0        1             0   \n",
            "1           0               0                1        0             0   \n",
            "2           1               0                0        1             0   \n",
            "3           1               1                0        1             0   \n",
            "4           1               0                1        1             1   \n",
            "5           1               0                0        1             0   \n",
            "6           1               0                0        1             1   \n",
            "7           1               0                1        0             0   \n",
            "8           0               0                1        1             0   \n",
            "9           0               0                0        0             0   \n",
            "\n",
            "   Delayed healing  Partial paresis  Muscle stiffness  Alopecia  Obesity  \\\n",
            "0                1                0                 1         1        1   \n",
            "1                0                1                 0         1        0   \n",
            "2                1                0                 1         1        0   \n",
            "3                1                0                 0         0        0   \n",
            "4                1                1                 1         1        1   \n",
            "5                1                1                 0         0        0   \n",
            "6                1                1                 0         0        1   \n",
            "7                0                1                 1         0        1   \n",
            "8                1                0                 0         1        0   \n",
            "9                0                0                 0         0        0   \n",
            "\n",
            "   class  \n",
            "0      1  \n",
            "1      1  \n",
            "2      1  \n",
            "3      1  \n",
            "4      1  \n",
            "5      1  \n",
            "6      1  \n",
            "7      1  \n",
            "8     -1  \n",
            "9     -1  \n"
          ]
        }
      ]
    },
    {
      "cell_type": "code",
      "source": [
        "w0,w1,w2,w3,w4,w5,w6,w7,w8,w9,w10,w11,w12,w13,w14,w15,w16,X0=1,1,0,2,3,1,2,0.5,1,0,0.5,1,0,1,1,1,1,1"
      ],
      "metadata": {
        "id": "h04rKF5enYOT"
      },
      "execution_count": 15,
      "outputs": []
    },
    {
      "cell_type": "code",
      "source": [
        "z=w0*X0+w1*df['Age']+w2*df['Gender']+w3*df['Polyuria']+w4*df['Polydipsia']+w5*df['Sudden weight loss']+w6*df['Weakness']+w7*df['Polyphagia']+w8*df['Genital thrush']+w9*df['Visual blurring']+w10*df['Itching']+w11*df['Irritability']+w12*df['Delayed healing']+w13*df['Partial paresis']+w14*df['Muscle stiffness']+w15*df['Alopecia']+w16*df['Obesity']\n",
        "print(z)"
      ],
      "metadata": {
        "colab": {
          "base_uri": "https://localhost:8080/"
        },
        "id": "bgYFRETooYWH",
        "outputId": "9acfc223-271b-4e3c-e72d-8f528e2c53c2"
      },
      "execution_count": 47,
      "outputs": [
        {
          "output_type": "stream",
          "name": "stdout",
          "text": [
            "0    49.5\n",
            "1    63.0\n",
            "2    49.0\n",
            "3    51.0\n",
            "4    75.0\n",
            "5    48.0\n",
            "6    61.0\n",
            "7    70.5\n",
            "8    36.5\n",
            "9    43.0\n",
            "dtype: float64\n"
          ]
        }
      ]
    },
    {
      "cell_type": "code",
      "source": [
        "yp=[]\n",
        "for i in range(0,10):\n",
        "  if z[i]>0:\n",
        "     yp.append(1)\n",
        "  else:\n",
        "     yp.append(0)\n"
      ],
      "metadata": {
        "id": "P0TIuJ4brXFh"
      },
      "execution_count": 18,
      "outputs": []
    },
    {
      "cell_type": "code",
      "source": [
        "print(yp)"
      ],
      "metadata": {
        "colab": {
          "base_uri": "https://localhost:8080/"
        },
        "id": "FxrtdIlUrkYy",
        "outputId": "5c1712e3-8def-407d-9c99-ff65dd817f64"
      },
      "execution_count": 19,
      "outputs": [
        {
          "output_type": "stream",
          "name": "stdout",
          "text": [
            "[1, 1, 1, 1, 1, 1, 1, 1, 1, 1]\n"
          ]
        }
      ]
    },
    {
      "cell_type": "code",
      "source": [
        "error=t-yp\n",
        "print(error)\n",
        "\n"
      ],
      "metadata": {
        "colab": {
          "base_uri": "https://localhost:8080/"
        },
        "id": "5D9TEqY-rmkE",
        "outputId": "0172332a-6f77-41b7-bbc1-8029da98c1ca"
      },
      "execution_count": 42,
      "outputs": [
        {
          "output_type": "stream",
          "name": "stdout",
          "text": [
            "0    0\n",
            "1    0\n",
            "2    0\n",
            "3    0\n",
            "4    0\n",
            "5    0\n",
            "6    0\n",
            "7    0\n",
            "8   -2\n",
            "9   -2\n",
            "Name: class, dtype: int64\n"
          ]
        }
      ]
    },
    {
      "cell_type": "code",
      "source": [
        "m=(error*error).sum()/9\n",
        "print(m)"
      ],
      "metadata": {
        "colab": {
          "base_uri": "https://localhost:8080/"
        },
        "id": "6RTO0DEXr347",
        "outputId": "15a83e30-2a61-4ead-d48e-a2924fde2128"
      },
      "execution_count": 43,
      "outputs": [
        {
          "output_type": "stream",
          "name": "stdout",
          "text": [
            "0.8888888888888888\n"
          ]
        }
      ]
    },
    {
      "cell_type": "code",
      "source": [
        "a=(error).sum()/9\n",
        "print(a)\n"
      ],
      "metadata": {
        "colab": {
          "base_uri": "https://localhost:8080/"
        },
        "id": "TR47O30CxZaw",
        "outputId": "fff6cecc-5965-4bfa-f35b-cf9ed3945b5d"
      },
      "execution_count": 44,
      "outputs": [
        {
          "output_type": "stream",
          "name": "stdout",
          "text": [
            "-0.4444444444444444\n"
          ]
        }
      ]
    },
    {
      "cell_type": "code",
      "source": [
        "wnew=w0+1*a*x0\n",
        "wnew1=w2+1*a*(df['Age'].sum()/9)\n",
        "wnew2=w3+1*a*(df['Gender'].sum()/9)\n",
        "wnew3=w4+1*a*(df['Polyuria'].sum()/9)\n",
        "wnew4=w5+1*a*(df['Polydipsia'].sum()/9)\n",
        "wnew5=w1+1*a*(df['Sudden weight loss'].sum()/9)\n",
        "wnew6=w2+1*a*(df['Weakness'].sum()/9)\n",
        "wnew7=w3+1*a*(df['Polyphagia'].sum()/9)\n",
        "wnew8=w4+1*a*(df['Genital thrush'].sum()/9)\n",
        "wnew9=w5+1*a*(df['Visual blurring'].sum()/9)\n",
        "wnew10=w1+1*a*(df['Itching'].sum()/9)\n",
        "wnew11=w2+1*a*(df['Irritability'].sum()/9)\n",
        "wnew12=w3+1*a*(df['Delayed healing'].sum()/9)\n",
        "wnew13=w4+1*a*(df['Partial paresis'].sum()/9)\n",
        "wnew14=w5+1*a*(df['Muscle stiffness'].sum()/9)\n",
        "wnew15=w5+1*a*(df['Alopecia'].sum()/9)\n",
        "wnew16=w5+1*a*(df['Obesity'].sum()/9)\n",
        "\n",
        "\n",
        ""
      ],
      "metadata": {
        "id": "AVbpZpOux9hA"
      },
      "execution_count": 54,
      "outputs": []
    },
    {
      "cell_type": "code",
      "source": [
        "print(wnew)\n",
        "print(wnew1)\n",
        "print(wnew2)\n",
        "print(wnew3)\n",
        "print(wnew4)\n",
        "print(wnew5)\n",
        "print(wnew6)\n",
        "print(wnew7)\n",
        "print(wnew8)\n",
        "print(wnew9)\n",
        "print(wnew10)\n",
        "print(wnew11)\n",
        "print(wnew12)\n",
        "print(wnew13)\n",
        "print(wnew14)\n",
        "print(wnew15)\n",
        "print(wnew16)\n"
      ],
      "metadata": {
        "colab": {
          "base_uri": "https://localhost:8080/"
        },
        "id": "paAsJ87I0qj-",
        "outputId": "aaf761b2-ea60-4e8c-bed8-d82bb4f41ba6"
      },
      "execution_count": 55,
      "outputs": [
        {
          "output_type": "stream",
          "name": "stdout",
          "text": [
            "0.5555555555555556\n",
            "-22.864197530864196\n",
            "1.8024691358024691\n",
            "2.753086419753086\n",
            "0.7530864197530864\n",
            "0.7530864197530864\n",
            "-0.3950617283950617\n",
            "1.7037037037037037\n",
            "2.950617283950617\n",
            "0.8024691358024691\n",
            "0.654320987654321\n",
            "-0.09876543209876543\n",
            "1.654320987654321\n",
            "2.753086419753086\n",
            "0.8024691358024691\n",
            "0.7530864197530864\n",
            "0.8024691358024691\n"
          ]
        }
      ]
    },
    {
      "cell_type": "code",
      "source": [
        "z=wnew*X0+wnew*df['Age']+wnew2*df['Gender']+wnew3*df['Polyuria']+wnew4*df['Polydipsia']+wnew5*df['Sudden weight loss']+wnew6*df['Weakness']+wnew7*df['Polyphagia']+wnew8*df['Genital thrush']+wnew9*df['Visual blurring']+wnew10*df['Itching']+wnew11*df['Irritability']+wnew12*df['Delayed healing']+wnew13*df['Partial paresis']+wnew14*df['Muscle stiffness']+wnew15*df['Alopecia']+wnew16*df['Obesity']\n",
        "print(z)"
      ],
      "metadata": {
        "colab": {
          "base_uri": "https://localhost:8080/"
        },
        "id": "Y0H_43Lk1ISc",
        "outputId": "35be4bab-7875-444a-882a-25a710092fa3"
      },
      "execution_count": 64,
      "outputs": [
        {
          "output_type": "stream",
          "name": "stdout",
          "text": [
            "0    27.802469\n",
            "1    36.691358\n",
            "2    31.259259\n",
            "3    32.876543\n",
            "4    47.580247\n",
            "5    35.049383\n",
            "6    40.358025\n",
            "7    45.308642\n",
            "8    23.604938\n",
            "9    23.888889\n",
            "dtype: float64\n"
          ]
        }
      ]
    },
    {
      "cell_type": "code",
      "source": [
        "yp=[]\n",
        "for i in range(0,10):\n",
        "  if z[i]>0:\n",
        "     yp.append(1)\n",
        "  else:\n",
        "     yp.append(0)\n"
      ],
      "metadata": {
        "id": "oU52mOzR1sfY"
      },
      "execution_count": 65,
      "outputs": []
    },
    {
      "cell_type": "code",
      "source": [
        "print(yp)"
      ],
      "metadata": {
        "colab": {
          "base_uri": "https://localhost:8080/"
        },
        "id": "-Qexoyu_1z2n",
        "outputId": "83acdb6d-f516-488b-be72-ea0d2ab25d3c"
      },
      "execution_count": 66,
      "outputs": [
        {
          "output_type": "stream",
          "name": "stdout",
          "text": [
            "[1, 1, 1, 1, 1, 1, 1, 1, 1, 1]\n"
          ]
        }
      ]
    },
    {
      "cell_type": "code",
      "source": [
        "error=t-yp\n",
        "print(error)"
      ],
      "metadata": {
        "colab": {
          "base_uri": "https://localhost:8080/"
        },
        "id": "HVn9j4MC108S",
        "outputId": "5e7464a9-ad34-43bf-8342-b69369736c15"
      },
      "execution_count": 62,
      "outputs": [
        {
          "output_type": "stream",
          "name": "stdout",
          "text": [
            "0    0\n",
            "1    0\n",
            "2    0\n",
            "3    0\n",
            "4    0\n",
            "5    0\n",
            "6    0\n",
            "7    0\n",
            "8   -2\n",
            "9   -2\n",
            "Name: class, dtype: int64\n"
          ]
        }
      ]
    },
    {
      "cell_type": "code",
      "source": [
        "s=(error*error).sum()/9\n",
        "print(s)\n"
      ],
      "metadata": {
        "colab": {
          "base_uri": "https://localhost:8080/"
        },
        "id": "ZCD-_T_52FFZ",
        "outputId": "98a993bd-0f13-4253-d810-0dd9276d9465"
      },
      "execution_count": 68,
      "outputs": [
        {
          "output_type": "stream",
          "name": "stdout",
          "text": [
            "0.8888888888888888\n"
          ]
        }
      ]
    },
    {
      "cell_type": "code",
      "source": [],
      "metadata": {
        "id": "jLzTswgJ2f-_"
      },
      "execution_count": null,
      "outputs": []
    }
  ]
}