{
  "nbformat": 4,
  "nbformat_minor": 0,
  "metadata": {
    "colab": {
      "provenance": [],
      "authorship_tag": "ABX9TyOI36JFoXAx1eQwvCm6VX0U",
      "include_colab_link": true
    },
    "kernelspec": {
      "name": "python3",
      "display_name": "Python 3"
    },
    "language_info": {
      "name": "python"
    }
  },
  "cells": [
    {
      "cell_type": "markdown",
      "metadata": {
        "id": "view-in-github",
        "colab_type": "text"
      },
      "source": [
        "<a href=\"https://colab.research.google.com/github/Geethika1205/SML/blob/main/Untitled18.ipynb\" target=\"_parent\"><img src=\"https://colab.research.google.com/assets/colab-badge.svg\" alt=\"Open In Colab\"/></a>"
      ]
    },
    {
      "cell_type": "code",
      "execution_count": 1,
      "metadata": {
        "id": "9NtePkdOd7tM"
      },
      "outputs": [],
      "source": [
        "import pandas as pd\n"
      ]
    },
    {
      "cell_type": "code",
      "source": [
        "df=pd.read_csv(\"/content/Book1.csv\")\n",
        "print(df)"
      ],
      "metadata": {
        "colab": {
          "base_uri": "https://localhost:8080/"
        },
        "id": "XuP9u7Agecb4",
        "outputId": "ec8dee4e-6a41-4f50-f646-e62136a69704"
      },
      "execution_count": 2,
      "outputs": [
        {
          "output_type": "stream",
          "name": "stdout",
          "text": [
            "   study hours per week  class attendance %  previous exam score  \\\n",
            "0                    10                  90                   85   \n",
            "1                     5                  60                   70   \n",
            "2                    15                  95                   90   \n",
            "3                     2                  30                   50   \n",
            "4                    12                  85                   88   \n",
            "5                     8                  74                   65   \n",
            "6                    14                  92                   93   \n",
            "7                     3                  50                   55   \n",
            "8                    11                  88                   80   \n",
            "9                     6                  65                   60   \n",
            "\n",
            "   participation in group study  subission of assignments  pass or fail  \n",
            "0                             1                       100             1  \n",
            "1                             0                        80             0  \n",
            "2                             1                       100             1  \n",
            "3                             0                        40             0  \n",
            "4                             1                        90             1  \n",
            "5                             0                        70             0  \n",
            "6                             1                        95             1  \n",
            "7                             0                        60             0  \n",
            "8                             1                        85             1  \n",
            "9                             0                        75             0  \n"
          ]
        }
      ]
    },
    {
      "cell_type": "code",
      "source": [
        "t=df[\"pass or fail\"]\n",
        "print(t)"
      ],
      "metadata": {
        "colab": {
          "base_uri": "https://localhost:8080/"
        },
        "id": "c4_UItTdei3y",
        "outputId": "23c06de6-c05a-499d-8911-6dc86e0fc89a"
      },
      "execution_count": 3,
      "outputs": [
        {
          "output_type": "stream",
          "name": "stdout",
          "text": [
            "0    1\n",
            "1    0\n",
            "2    1\n",
            "3    0\n",
            "4    1\n",
            "5    0\n",
            "6    1\n",
            "7    0\n",
            "8    1\n",
            "9    0\n",
            "Name: pass or fail, dtype: int64\n"
          ]
        }
      ]
    },
    {
      "cell_type": "code",
      "source": [
        "f=df.drop(\"pass or fail\",axis=1)\n",
        "print(f)"
      ],
      "metadata": {
        "colab": {
          "base_uri": "https://localhost:8080/"
        },
        "id": "-XBjAuBaep5Z",
        "outputId": "126f7302-5549-4eb6-89b4-c76c4ab9fa43"
      },
      "execution_count": 4,
      "outputs": [
        {
          "output_type": "stream",
          "name": "stdout",
          "text": [
            "   study hours per week  class attendance %  previous exam score  \\\n",
            "0                    10                  90                   85   \n",
            "1                     5                  60                   70   \n",
            "2                    15                  95                   90   \n",
            "3                     2                  30                   50   \n",
            "4                    12                  85                   88   \n",
            "5                     8                  74                   65   \n",
            "6                    14                  92                   93   \n",
            "7                     3                  50                   55   \n",
            "8                    11                  88                   80   \n",
            "9                     6                  65                   60   \n",
            "\n",
            "   participation in group study  subission of assignments  \n",
            "0                             1                       100  \n",
            "1                             0                        80  \n",
            "2                             1                       100  \n",
            "3                             0                        40  \n",
            "4                             1                        90  \n",
            "5                             0                        70  \n",
            "6                             1                        95  \n",
            "7                             0                        60  \n",
            "8                             1                        85  \n",
            "9                             0                        75  \n"
          ]
        }
      ]
    },
    {
      "cell_type": "code",
      "source": [
        " w0,w1,w2,w3,w4,w5,x0=1,2,0.5,1,2,1,1"
      ],
      "metadata": {
        "id": "2iNvfrDif3s1"
      },
      "execution_count": 16,
      "outputs": []
    },
    {
      "cell_type": "code",
      "source": [
        "z=w0*x0+w1*df['study hours per week']+w2*df['class attendance %']+w3*df['previous exam score']+w4*df['participation in group study']+w5*df['subission of assignments']"
      ],
      "metadata": {
        "id": "Mqy5YYw7e1nl"
      },
      "execution_count": 18,
      "outputs": []
    },
    {
      "cell_type": "code",
      "source": [
        "yp=[]\n",
        "for i in range(0,10):\n",
        "  if z[i]>0:\n",
        "     yp.append(1)\n",
        "  else:\n",
        "     yp.append(0)\n",
        ""
      ],
      "metadata": {
        "id": "eMV6BhbFgZ4_"
      },
      "execution_count": 31,
      "outputs": []
    },
    {
      "cell_type": "code",
      "source": [
        "print(yp)"
      ],
      "metadata": {
        "colab": {
          "base_uri": "https://localhost:8080/"
        },
        "id": "72RWaMwagzWM",
        "outputId": "59d74198-d0d1-4f37-ee07-5c46e7d236de"
      },
      "execution_count": 32,
      "outputs": [
        {
          "output_type": "stream",
          "name": "stdout",
          "text": [
            "[1, 1, 1, 1, 1, 1, 1, 1, 1, 1]\n"
          ]
        }
      ]
    },
    {
      "cell_type": "code",
      "source": [
        "error=t-yp\n"
      ],
      "metadata": {
        "id": "KIgBoE3UlTV6"
      },
      "execution_count": 33,
      "outputs": []
    },
    {
      "cell_type": "code",
      "source": [
        "print(error)"
      ],
      "metadata": {
        "colab": {
          "base_uri": "https://localhost:8080/"
        },
        "id": "avLc9f-gloeB",
        "outputId": "d2ebfb07-cd3b-480d-aa84-8438f070270d"
      },
      "execution_count": 34,
      "outputs": [
        {
          "output_type": "stream",
          "name": "stdout",
          "text": [
            "0    0\n",
            "1   -1\n",
            "2    0\n",
            "3   -1\n",
            "4    0\n",
            "5   -1\n",
            "6    0\n",
            "7   -1\n",
            "8    0\n",
            "9   -1\n",
            "Name: pass or fail, dtype: int64\n"
          ]
        }
      ]
    },
    {
      "cell_type": "code",
      "source": [
        "import math\n"
      ],
      "metadata": {
        "id": "v2pos5PClvwd"
      },
      "execution_count": 35,
      "outputs": []
    },
    {
      "cell_type": "code",
      "source": [
        "m=(error*error).sum()/9\n",
        "print(m)\n",
        "a=(error).sum()/9\n",
        "print(a)\n"
      ],
      "metadata": {
        "colab": {
          "base_uri": "https://localhost:8080/"
        },
        "id": "4PApxBc5mfku",
        "outputId": "a5701e76-8285-4491-fcc0-d127c3ccb1b7"
      },
      "execution_count": 51,
      "outputs": [
        {
          "output_type": "stream",
          "name": "stdout",
          "text": [
            "0.5555555555555556\n",
            "-0.5555555555555556\n"
          ]
        }
      ]
    },
    {
      "cell_type": "code",
      "source": [
        "wnew=w0+1*a*x0\n",
        "wnew1=w1+1*a*(df['study hours per week'].sum()/9)\n",
        "wnew2=w2+1*a*(df['class attendance %'].sum()/9)\n",
        "wnew3=w3+1*a*(df['previous exam score'].sum()/9)\n",
        "wnew4=w4+1*a*(df['participation in group study'].sum()/9)\n",
        "wnew5=w5+1*a*(df['subission of assignments'].sum()/9)"
      ],
      "metadata": {
        "id": "SQGg1rHymwX9"
      },
      "execution_count": 56,
      "outputs": []
    },
    {
      "cell_type": "code",
      "source": [
        "print(wnew)\n",
        "print(wnew1)\n",
        "print(wnew2)\n",
        "print(wnew3)\n",
        "print(wnew4)\n",
        "print(wnew5)\n"
      ],
      "metadata": {
        "colab": {
          "base_uri": "https://localhost:8080/"
        },
        "id": "KBVFx8adoKf1",
        "outputId": "c7a05548-6b01-4ead-b14e-4c7286ae5b7d"
      },
      "execution_count": 57,
      "outputs": [
        {
          "output_type": "stream",
          "name": "stdout",
          "text": [
            "0.4444444444444444\n",
            "-3.3086419753086425\n",
            "-44.5\n",
            "-44.432098765432094\n",
            "1.691358024691358\n",
            "-48.074074074074076\n"
          ]
        }
      ]
    },
    {
      "cell_type": "code",
      "source": [],
      "metadata": {
        "id": "vk453SbXoSyX"
      },
      "execution_count": 46,
      "outputs": []
    },
    {
      "cell_type": "code",
      "source": [],
      "metadata": {
        "colab": {
          "base_uri": "https://localhost:8080/"
        },
        "id": "_xjnU9Dvo9AP",
        "outputId": "ad3b89e1-3907-480c-ec62-e9b7cb395115"
      },
      "execution_count": 47,
      "outputs": [
        {
          "output_type": "stream",
          "name": "stdout",
          "text": [
            "9.555555555555555\n"
          ]
        }
      ]
    },
    {
      "cell_type": "code",
      "source": [],
      "metadata": {
        "id": "04qku0sEpAzq"
      },
      "execution_count": null,
      "outputs": []
    }
  ]
}