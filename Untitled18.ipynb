{
  "nbformat": 4,
  "nbformat_minor": 0,
  "metadata": {
    "colab": {
      "provenance": [],
      "authorship_tag": "ABX9TyPsBLQ2BvCiBDUf3KelbOdl",
      "include_colab_link": true
    },
    "kernelspec": {
      "name": "python3",
      "display_name": "Python 3"
    },
    "language_info": {
      "name": "python"
    }
  },
  "cells": [
    {
      "cell_type": "markdown",
      "metadata": {
        "id": "view-in-github",
        "colab_type": "text"
      },
      "source": [
        "<a href=\"https://colab.research.google.com/github/Geethika1205/SML/blob/main/Untitled18.ipynb\" target=\"_parent\"><img src=\"https://colab.research.google.com/assets/colab-badge.svg\" alt=\"Open In Colab\"/></a>"
      ]
    },
    {
      "cell_type": "code",
      "execution_count": 4,
      "metadata": {
        "id": "9NtePkdOd7tM"
      },
      "outputs": [],
      "source": [
        "import pandas as pd\n"
      ]
    },
    {
      "cell_type": "code",
      "source": [
        "df=pd.read_csv(\"/content/Book1.csv\")\n",
        "print(df)"
      ],
      "metadata": {
        "colab": {
          "base_uri": "https://localhost:8080/"
        },
        "id": "XuP9u7Agecb4",
        "outputId": "a42f1cf0-07ad-4d44-aa73-47024bcaf1c7"
      },
      "execution_count": 6,
      "outputs": [
        {
          "output_type": "stream",
          "name": "stdout",
          "text": [
            "   study hours per week  class attendance %  previous exam score  \\\n",
            "0                    10                  90                   85   \n",
            "1                     5                  60                   70   \n",
            "2                    15                  95                   90   \n",
            "3                     2                  30                   50   \n",
            "4                    12                  85                   88   \n",
            "5                     8                  74                   65   \n",
            "6                    14                  92                   93   \n",
            "7                     3                  50                   55   \n",
            "8                    11                  88                   80   \n",
            "9                     6                  65                   60   \n",
            "\n",
            "   participation in group study  subission of assignments  pass or fail  \n",
            "0                             1                       100             1  \n",
            "1                             0                        80             0  \n",
            "2                             1                       100             1  \n",
            "3                             0                        40             0  \n",
            "4                             1                        90             1  \n",
            "5                             0                        70             0  \n",
            "6                             1                        95             1  \n",
            "7                             0                        60             0  \n",
            "8                             1                        85             1  \n",
            "9                             0                        75             0  \n"
          ]
        }
      ]
    },
    {
      "cell_type": "code",
      "source": [
        "t=df[\"pass or fail\"]\n",
        "print(t)"
      ],
      "metadata": {
        "colab": {
          "base_uri": "https://localhost:8080/"
        },
        "id": "c4_UItTdei3y",
        "outputId": "af2efbee-0734-4116-e36e-a1c435c6f3b7"
      },
      "execution_count": 7,
      "outputs": [
        {
          "output_type": "stream",
          "name": "stdout",
          "text": [
            "0    1\n",
            "1    0\n",
            "2    1\n",
            "3    0\n",
            "4    1\n",
            "5    0\n",
            "6    1\n",
            "7    0\n",
            "8    1\n",
            "9    0\n",
            "Name: pass or fail, dtype: int64\n"
          ]
        }
      ]
    },
    {
      "cell_type": "code",
      "source": [
        "f=df.drop(\"pass or fail\",axis=1)\n",
        "print(f)"
      ],
      "metadata": {
        "colab": {
          "base_uri": "https://localhost:8080/"
        },
        "id": "-XBjAuBaep5Z",
        "outputId": "a3656d01-e1c0-4a93-f3e2-cbf7dbaa3f46"
      },
      "execution_count": 8,
      "outputs": [
        {
          "output_type": "stream",
          "name": "stdout",
          "text": [
            "   study hours per week  class attendance %  previous exam score  \\\n",
            "0                    10                  90                   85   \n",
            "1                     5                  60                   70   \n",
            "2                    15                  95                   90   \n",
            "3                     2                  30                   50   \n",
            "4                    12                  85                   88   \n",
            "5                     8                  74                   65   \n",
            "6                    14                  92                   93   \n",
            "7                     3                  50                   55   \n",
            "8                    11                  88                   80   \n",
            "9                     6                  65                   60   \n",
            "\n",
            "   participation in group study  subission of assignments  \n",
            "0                             1                       100  \n",
            "1                             0                        80  \n",
            "2                             1                       100  \n",
            "3                             0                        40  \n",
            "4                             1                        90  \n",
            "5                             0                        70  \n",
            "6                             1                        95  \n",
            "7                             0                        60  \n",
            "8                             1                        85  \n",
            "9                             0                        75  \n"
          ]
        }
      ]
    },
    {
      "cell_type": "code",
      "source": [
        " w0,w1,w2,w3,w4,w5,x0=1,2,0.5,1,2,1,1"
      ],
      "metadata": {
        "id": "2iNvfrDif3s1"
      },
      "execution_count": 9,
      "outputs": []
    },
    {
      "cell_type": "code",
      "source": [
        "z=w0*x0+w1*df['study hours per week']+w2*df['class attendance %']+w3*df['previous exam score']+w4*df['participation in group study']+w5*df['subission of assignments']\n",
        "print(z)"
      ],
      "metadata": {
        "id": "Mqy5YYw7e1nl",
        "colab": {
          "base_uri": "https://localhost:8080/"
        },
        "outputId": "b73af524-ffca-494c-8cfc-cd6ce2d3d386"
      },
      "execution_count": 23,
      "outputs": [
        {
          "output_type": "stream",
          "name": "stdout",
          "text": [
            "0    253.0\n",
            "1    191.0\n",
            "2    270.5\n",
            "3    110.0\n",
            "4    247.5\n",
            "5    189.0\n",
            "6    265.0\n",
            "7    147.0\n",
            "8    234.0\n",
            "9    180.5\n",
            "dtype: float64\n"
          ]
        }
      ]
    },
    {
      "cell_type": "code",
      "source": [
        "yp=[]\n",
        "for i in range(0,10):\n",
        "  if z[i]>0:\n",
        "     yp.append(1)\n",
        "  else:\n",
        "     yp.append(0)\n"
      ],
      "metadata": {
        "id": "eMV6BhbFgZ4_"
      },
      "execution_count": 11,
      "outputs": []
    },
    {
      "cell_type": "code",
      "source": [
        "print(yp)"
      ],
      "metadata": {
        "colab": {
          "base_uri": "https://localhost:8080/"
        },
        "id": "72RWaMwagzWM",
        "outputId": "254a1806-ec6f-4bfa-8a9f-4fcae42c66bc"
      },
      "execution_count": 12,
      "outputs": [
        {
          "output_type": "stream",
          "name": "stdout",
          "text": [
            "[1, 1, 1, 1, 1, 1, 1, 1, 1, 1]\n"
          ]
        }
      ]
    },
    {
      "cell_type": "code",
      "source": [
        "error=t-yp\n"
      ],
      "metadata": {
        "id": "KIgBoE3UlTV6"
      },
      "execution_count": 13,
      "outputs": []
    },
    {
      "cell_type": "code",
      "source": [
        "print(error)"
      ],
      "metadata": {
        "colab": {
          "base_uri": "https://localhost:8080/"
        },
        "id": "avLc9f-gloeB",
        "outputId": "425e1ec3-682d-4851-b83a-ca441699f472"
      },
      "execution_count": 14,
      "outputs": [
        {
          "output_type": "stream",
          "name": "stdout",
          "text": [
            "0    0\n",
            "1   -1\n",
            "2    0\n",
            "3   -1\n",
            "4    0\n",
            "5   -1\n",
            "6    0\n",
            "7   -1\n",
            "8    0\n",
            "9   -1\n",
            "Name: pass or fail, dtype: int64\n"
          ]
        }
      ]
    },
    {
      "cell_type": "code",
      "source": [
        "m=(error*error).sum()/9\n",
        "print(m)\n",
        "a=(error).sum()/9\n",
        "print(a)\n"
      ],
      "metadata": {
        "colab": {
          "base_uri": "https://localhost:8080/"
        },
        "id": "4PApxBc5mfku",
        "outputId": "6f493538-7691-4f52-f3f9-9ceb824e42c3"
      },
      "execution_count": 15,
      "outputs": [
        {
          "output_type": "stream",
          "name": "stdout",
          "text": [
            "0.5555555555555556\n",
            "-0.5555555555555556\n"
          ]
        }
      ]
    },
    {
      "cell_type": "code",
      "source": [
        "wnew=w0+1*a*x0\n",
        "wnew1=w1+1*a*(df['study hours per week'].sum()/9)\n",
        "wnew2=w2+1*a*(df['class attendance %'].sum()/9)\n",
        "wnew3=w3+1*a*(df['previous exam score'].sum()/9)\n",
        "wnew4=w4+1*a*(df['participation in group study'].sum()/9)\n",
        "wnew5=w5+1*a*(df['subission of assignments'].sum()/9)"
      ],
      "metadata": {
        "id": "SQGg1rHymwX9"
      },
      "execution_count": 16,
      "outputs": []
    },
    {
      "cell_type": "code",
      "source": [
        "print(wnew)\n",
        "print(wnew1)\n",
        "print(wnew2)\n",
        "print(wnew3)\n",
        "print(wnew4)\n",
        "print(wnew5)\n"
      ],
      "metadata": {
        "colab": {
          "base_uri": "https://localhost:8080/"
        },
        "id": "KBVFx8adoKf1",
        "outputId": "cd919f06-9ebd-4560-84fa-dd7d317a205d"
      },
      "execution_count": 17,
      "outputs": [
        {
          "output_type": "stream",
          "name": "stdout",
          "text": [
            "0.4444444444444444\n",
            "-3.3086419753086425\n",
            "-44.5\n",
            "-44.432098765432094\n",
            "1.691358024691358\n",
            "-48.074074074074076\n"
          ]
        }
      ]
    },
    {
      "cell_type": "code",
      "source": [
        "wnew,wnew1,wnew2,wnew3,wnew4,wnew5,x0=0.4444444444444444,-3.3086419753086425,-44.5,-44.432098765432094,1.691358024691358,-48.074074074074076,1\n"
      ],
      "metadata": {
        "id": "vk453SbXoSyX"
      },
      "execution_count": 24,
      "outputs": []
    },
    {
      "cell_type": "code",
      "source": [
        "z=wnew*x0+wnew1*df['study hours per week']+wnew2*df['class attendance %']+wnew3*df['previous exam score']+wnew4*df['participation in group study']+wnew5*df['subission of assignments']"
      ],
      "metadata": {
        "id": "wxnKcyLuB3NZ"
      },
      "execution_count": 26,
      "outputs": []
    },
    {
      "cell_type": "code",
      "source": [
        "yp=[]\n",
        "for i in range(0,10):\n",
        "  if z[i]>0:\n",
        "     yp.append(1)\n",
        "  else:\n",
        "     yp.append(0)\n"
      ],
      "metadata": {
        "id": "04qku0sEpAzq"
      },
      "execution_count": 19,
      "outputs": []
    },
    {
      "cell_type": "code",
      "source": [
        "print(yp)"
      ],
      "metadata": {
        "colab": {
          "base_uri": "https://localhost:8080/"
        },
        "id": "wUwsKxouAIMy",
        "outputId": "89966ab3-bf48-451b-bf4d-f9ae1c61491d"
      },
      "execution_count": 20,
      "outputs": [
        {
          "output_type": "stream",
          "name": "stdout",
          "text": [
            "[0, 0, 0, 0, 0, 0, 0, 0, 0, 0]\n"
          ]
        }
      ]
    },
    {
      "cell_type": "code",
      "source": [
        "error=t-yp\n",
        "print(error)"
      ],
      "metadata": {
        "colab": {
          "base_uri": "https://localhost:8080/"
        },
        "id": "j9sazjEJAKp4",
        "outputId": "1bd12e01-f44b-4613-fb84-2e1aab369793"
      },
      "execution_count": 21,
      "outputs": [
        {
          "output_type": "stream",
          "name": "stdout",
          "text": [
            "0    1\n",
            "1    0\n",
            "2    1\n",
            "3    0\n",
            "4    1\n",
            "5    0\n",
            "6    1\n",
            "7    0\n",
            "8    1\n",
            "9    0\n",
            "Name: pass or fail, dtype: int64\n"
          ]
        }
      ]
    },
    {
      "cell_type": "code",
      "source": [
        "meansquareerror=(error*error).sum()/9\n",
        "print(meansquareerror)\n"
      ],
      "metadata": {
        "colab": {
          "base_uri": "https://localhost:8080/"
        },
        "id": "cJ3-bphmAStq",
        "outputId": "539bd314-7ec4-46b1-878d-41cb43ff30f1"
      },
      "execution_count": 29,
      "outputs": [
        {
          "output_type": "stream",
          "name": "stdout",
          "text": [
            "0.5555555555555556\n"
          ]
        }
      ]
    },
    {
      "cell_type": "code",
      "source": [],
      "metadata": {
        "id": "UozooUf3AnV7"
      },
      "execution_count": null,
      "outputs": []
    }
  ]
}