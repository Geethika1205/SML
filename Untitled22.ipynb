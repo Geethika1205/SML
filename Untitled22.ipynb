{
  "nbformat": 4,
  "nbformat_minor": 0,
  "metadata": {
    "colab": {
      "provenance": [],
      "authorship_tag": "ABX9TyOp6Fi+7gEh79yZAhdxvRDa",
      "include_colab_link": true
    },
    "kernelspec": {
      "name": "python3",
      "display_name": "Python 3"
    },
    "language_info": {
      "name": "python"
    }
  },
  "cells": [
    {
      "cell_type": "markdown",
      "metadata": {
        "id": "view-in-github",
        "colab_type": "text"
      },
      "source": [
        "<a href=\"https://colab.research.google.com/github/Geethika1205/SML/blob/main/Untitled22.ipynb\" target=\"_parent\"><img src=\"https://colab.research.google.com/assets/colab-badge.svg\" alt=\"Open In Colab\"/></a>"
      ]
    },
    {
      "cell_type": "code",
      "execution_count": 1,
      "metadata": {
        "id": "aILD5BI9kwRR"
      },
      "outputs": [],
      "source": [
        "import pandas as pd"
      ]
    },
    {
      "cell_type": "code",
      "source": [
        "df=pd.read_csv(\"/content/Salary_Data (4).csv\")"
      ],
      "metadata": {
        "id": "1hvPNzOhlyaf"
      },
      "execution_count": 3,
      "outputs": []
    },
    {
      "cell_type": "code",
      "source": [
        "print(df)"
      ],
      "metadata": {
        "colab": {
          "base_uri": "https://localhost:8080/"
        },
        "id": "1Zhk2Ca6l4tR",
        "outputId": "1aa45c04-a17c-4bf1-efc1-4f9f6891a2c8"
      },
      "execution_count": null,
      "outputs": [
        {
          "output_type": "stream",
          "name": "stdout",
          "text": [
            "    YearsExperience    Salary\n",
            "0               1.1   39343.0\n",
            "1               1.3   46205.0\n",
            "2               1.5   37731.0\n",
            "3               2.0   43525.0\n",
            "4               2.2   39891.0\n",
            "5               2.9   56642.0\n",
            "6               3.0   60150.0\n",
            "7               3.2   54445.0\n",
            "8               3.2   64445.0\n",
            "9               3.7   57189.0\n",
            "10              3.9   63218.0\n",
            "11              4.0   55794.0\n",
            "12              4.0   56957.0\n",
            "13              4.1   57081.0\n",
            "14              4.5   61111.0\n",
            "15              4.9   67938.0\n",
            "16              5.1   66029.0\n",
            "17              5.3   83088.0\n",
            "18              5.9   81363.0\n",
            "19              6.0   93940.0\n",
            "20              6.8   91738.0\n",
            "21              7.1   98273.0\n",
            "22              7.9  101302.0\n",
            "23              8.2  113812.0\n",
            "24              8.7  109431.0\n",
            "25              9.0  105582.0\n",
            "26              9.5  116969.0\n",
            "27              9.6  112635.0\n",
            "28             10.3  122391.0\n",
            "29             10.5  121872.0\n"
          ]
        }
      ]
    },
    {
      "cell_type": "code",
      "source": [
        "y=df['Salary']\n",
        "print(y)"
      ],
      "metadata": {
        "colab": {
          "base_uri": "https://localhost:8080/"
        },
        "id": "SGNO4_kbnR0L",
        "outputId": "3c95b09b-ef1d-487b-e6f5-7675a45622e1"
      },
      "execution_count": 4,
      "outputs": [
        {
          "output_type": "stream",
          "name": "stdout",
          "text": [
            "0      39343.0\n",
            "1      46205.0\n",
            "2      37731.0\n",
            "3      43525.0\n",
            "4      39891.0\n",
            "5      56642.0\n",
            "6      60150.0\n",
            "7      54445.0\n",
            "8      64445.0\n",
            "9      57189.0\n",
            "10     63218.0\n",
            "11     55794.0\n",
            "12     56957.0\n",
            "13     57081.0\n",
            "14     61111.0\n",
            "15     67938.0\n",
            "16     66029.0\n",
            "17     83088.0\n",
            "18     81363.0\n",
            "19     93940.0\n",
            "20     91738.0\n",
            "21     98273.0\n",
            "22    101302.0\n",
            "23    113812.0\n",
            "24    109431.0\n",
            "25    105582.0\n",
            "26    116969.0\n",
            "27    112635.0\n",
            "28    122391.0\n",
            "29    121872.0\n",
            "Name: Salary, dtype: float64\n"
          ]
        }
      ]
    },
    {
      "cell_type": "code",
      "source": [
        "x=df.drop('Salary',axis=1)"
      ],
      "metadata": {
        "id": "075WyvZfn-bq"
      },
      "execution_count": 5,
      "outputs": []
    },
    {
      "cell_type": "code",
      "source": [
        "print(x)"
      ],
      "metadata": {
        "colab": {
          "base_uri": "https://localhost:8080/"
        },
        "id": "ynQ8jRg3oi37",
        "outputId": "da041b8f-8aea-4b1d-c220-e7336bad3fcf"
      },
      "execution_count": null,
      "outputs": [
        {
          "output_type": "stream",
          "name": "stdout",
          "text": [
            "    YearsExperience\n",
            "0               1.1\n",
            "1               1.3\n",
            "2               1.5\n",
            "3               2.0\n",
            "4               2.2\n",
            "5               2.9\n",
            "6               3.0\n",
            "7               3.2\n",
            "8               3.2\n",
            "9               3.7\n",
            "10              3.9\n",
            "11              4.0\n",
            "12              4.0\n",
            "13              4.1\n",
            "14              4.5\n",
            "15              4.9\n",
            "16              5.1\n",
            "17              5.3\n",
            "18              5.9\n",
            "19              6.0\n",
            "20              6.8\n",
            "21              7.1\n",
            "22              7.9\n",
            "23              8.2\n",
            "24              8.7\n",
            "25              9.0\n",
            "26              9.5\n",
            "27              9.6\n",
            "28             10.3\n",
            "29             10.5\n"
          ]
        }
      ]
    },
    {
      "cell_type": "code",
      "source": [
        "import matplotlib.pyplot as plt"
      ],
      "metadata": {
        "id": "IrV5HUYwokiu"
      },
      "execution_count": 6,
      "outputs": []
    },
    {
      "cell_type": "code",
      "source": [
        "plt.plot(x,y)\n",
        "plt.xlabel('x-axis')\n",
        "plt.ylabel('y-axis')\n",
        "plt.title('Salary')\n",
        "plt.show()"
      ],
      "metadata": {
        "colab": {
          "base_uri": "https://localhost:8080/",
          "height": 472
        },
        "id": "4elm77ABp9xM",
        "outputId": "d8d3e261-5054-43fd-b258-4e0ff7187e63"
      },
      "execution_count": 7,
      "outputs": [
        {
          "output_type": "display_data",
          "data": {
            "text/plain": [
              "<Figure size 640x480 with 1 Axes>"
            ],
            "image/png": "[encoded data removed]"
          },
          "metadata": {}
        }
      ]
    },
    {
      "cell_type": "code",
      "source": [
        "w0,w1,x0=1,1,1"
      ],
      "metadata": {
        "id": "nZ6sH9y-qCRU"
      },
      "execution_count": 8,
      "outputs": []
    },
    {
      "cell_type": "code",
      "source": [
        "yp=w0*x0+w1*df['YearsExperience']"
      ],
      "metadata": {
        "id": "4QpBsfoYrlAZ"
      },
      "execution_count": 9,
      "outputs": []
    },
    {
      "cell_type": "code",
      "source": [
        "print(yp)"
      ],
      "metadata": {
        "colab": {
          "base_uri": "https://localhost:8080/"
        },
        "id": "s32bxik_r4FR",
        "outputId": "8cbda1de-4976-422d-9277-77a7ec551843"
      },
      "execution_count": 10,
      "outputs": [
        {
          "output_type": "stream",
          "name": "stdout",
          "text": [
            "0      2.1\n",
            "1      2.3\n",
            "2      2.5\n",
            "3      3.0\n",
            "4      3.2\n",
            "5      3.9\n",
            "6      4.0\n",
            "7      4.2\n",
            "8      4.2\n",
            "9      4.7\n",
            "10     4.9\n",
            "11     5.0\n",
            "12     5.0\n",
            "13     5.1\n",
            "14     5.5\n",
            "15     5.9\n",
            "16     6.1\n",
            "17     6.3\n",
            "18     6.9\n",
            "19     7.0\n",
            "20     7.8\n",
            "21     8.1\n",
            "22     8.9\n",
            "23     9.2\n",
            "24     9.7\n",
            "25    10.0\n",
            "26    10.5\n",
            "27    10.6\n",
            "28    11.3\n",
            "29    11.5\n",
            "Name: YearsExperience, dtype: float64\n"
          ]
        }
      ]
    },
    {
      "cell_type": "code",
      "source": [
        "error=y-yp\n",
        "print(error)"
      ],
      "metadata": {
        "colab": {
          "base_uri": "https://localhost:8080/"
        },
        "id": "MunbWcIDr_XG",
        "outputId": "844ae670-b5dc-4fc7-9185-b588ea93d0ae"
      },
      "execution_count": 11,
      "outputs": [
        {
          "output_type": "stream",
          "name": "stdout",
          "text": [
            "0      39340.9\n",
            "1      46202.7\n",
            "2      37728.5\n",
            "3      43522.0\n",
            "4      39887.8\n",
            "5      56638.1\n",
            "6      60146.0\n",
            "7      54440.8\n",
            "8      64440.8\n",
            "9      57184.3\n",
            "10     63213.1\n",
            "11     55789.0\n",
            "12     56952.0\n",
            "13     57075.9\n",
            "14     61105.5\n",
            "15     67932.1\n",
            "16     66022.9\n",
            "17     83081.7\n",
            "18     81356.1\n",
            "19     93933.0\n",
            "20     91730.2\n",
            "21     98264.9\n",
            "22    101293.1\n",
            "23    113802.8\n",
            "24    109421.3\n",
            "25    105572.0\n",
            "26    116958.5\n",
            "27    112624.4\n",
            "28    122379.7\n",
            "29    121860.5\n",
            "dtype: float64\n"
          ]
        }
      ]
    },
    {
      "cell_type": "code",
      "source": [
        "mean_square_error=(error*error).sum()/30"
      ],
      "metadata": {
        "id": "sK9zYtyZsebH"
      },
      "execution_count": 12,
      "outputs": []
    },
    {
      "cell_type": "code",
      "source": [
        "print(mean_square_error)"
      ],
      "metadata": {
        "colab": {
          "base_uri": "https://localhost:8080/"
        },
        "id": "FEaGPetSuBe6",
        "outputId": "42cb5d31-83e0-41d6-dd77-2795d0d76ee3"
      },
      "execution_count": 13,
      "outputs": [
        {
          "output_type": "stream",
          "name": "stdout",
          "text": [
            "6501848514.976666\n"
          ]
        }
      ]
    },
    {
      "cell_type": "code",
      "source": [
        "wnew=w1-(0.01*2*(error.sum()/30))*df['YearsExperience'].sum()/30"
      ],
      "metadata": {
        "id": "wUmFwS0guFK6"
      },
      "execution_count": 14,
      "outputs": []
    },
    {
      "cell_type": "code",
      "source": [
        "print(wnew)"
      ],
      "metadata": {
        "colab": {
          "base_uri": "https://localhost:8080/"
        },
        "id": "Z-zPAQmOvU5m",
        "outputId": "11689445-1adc-4b9d-d218-a430716d4983"
      },
      "execution_count": 15,
      "outputs": [
        {
          "output_type": "stream",
          "name": "stdout",
          "text": [
            "-8074.914569777779\n"
          ]
        }
      ]
    },
    {
      "cell_type": "code",
      "source": [
        "wnew0=w0-(0.01*2*(error.sum()/30))*1\n",
        "print(wnew0)"
      ],
      "metadata": {
        "colab": {
          "base_uri": "https://localhost:8080/"
        },
        "id": "ydbwEWE1vpkN",
        "outputId": "dbf4528d-542c-4283-b7a1-ca6faf9d0632"
      },
      "execution_count": 16,
      "outputs": [
        {
          "output_type": "stream",
          "name": "stdout",
          "text": [
            "-1518.9337333333335\n"
          ]
        }
      ]
    },
    {
      "cell_type": "code",
      "source": [
        "yp=wnew0*x0+wnew*df['YearsExperience']"
      ],
      "metadata": {
        "id": "oKn6rkh1wZKv"
      },
      "execution_count": 17,
      "outputs": []
    },
    {
      "cell_type": "code",
      "source": [
        "print(yp)"
      ],
      "metadata": {
        "colab": {
          "base_uri": "https://localhost:8080/"
        },
        "id": "gpZgEYaewto3",
        "outputId": "49cb6a8d-5a30-46e5-a6ae-46f05cb5bd26"
      },
      "execution_count": null,
      "outputs": [
        {
          "output_type": "stream",
          "name": "stdout",
          "text": [
            "0    -10401.339760\n",
            "1    -12016.322674\n",
            "2    -13631.305588\n",
            "3    -17668.762873\n",
            "4    -19283.745787\n",
            "5    -24936.185986\n",
            "6    -25743.677443\n",
            "7    -27358.660357\n",
            "8    -27358.660357\n",
            "9    -31396.117642\n",
            "10   -33011.100555\n",
            "11   -33818.592012\n",
            "12   -33818.592012\n",
            "13   -34626.083469\n",
            "14   -37856.049297\n",
            "15   -41086.015125\n",
            "16   -42700.998039\n",
            "17   -44315.980953\n",
            "18   -49160.929695\n",
            "19   -49968.421152\n",
            "20   -56428.352808\n",
            "21   -58850.827179\n",
            "22   -65310.758835\n",
            "23   -67733.233206\n",
            "24   -71770.690490\n",
            "25   -74193.164861\n",
            "26   -78230.622146\n",
            "27   -79038.113603\n",
            "28   -84690.553802\n",
            "29   -86305.536716\n",
            "Name: YearsExperience, dtype: float64\n"
          ]
        }
      ]
    },
    {
      "cell_type": "code",
      "source": [
        "error=y-yp"
      ],
      "metadata": {
        "id": "8o_UPrUzwvMH"
      },
      "execution_count": 18,
      "outputs": []
    },
    {
      "cell_type": "code",
      "source": [
        "print(error)"
      ],
      "metadata": {
        "colab": {
          "base_uri": "https://localhost:8080/"
        },
        "id": "cvhE2304wxhx",
        "outputId": "76646647-6b79-4e08-a429-1adba3cd798b"
      },
      "execution_count": 19,
      "outputs": [
        {
          "output_type": "stream",
          "name": "stdout",
          "text": [
            "0      49744.339760\n",
            "1      58221.322674\n",
            "2      51362.305588\n",
            "3      61193.762873\n",
            "4      59174.745787\n",
            "5      81578.185986\n",
            "6      85893.677443\n",
            "7      81803.660357\n",
            "8      91803.660357\n",
            "9      88585.117642\n",
            "10     96229.100555\n",
            "11     89612.592012\n",
            "12     90775.592012\n",
            "13     91707.083469\n",
            "14     98967.049297\n",
            "15    109024.015125\n",
            "16    108729.998039\n",
            "17    127403.980953\n",
            "18    130523.929695\n",
            "19    143908.421152\n",
            "20    148166.352808\n",
            "21    157123.827179\n",
            "22    166612.758835\n",
            "23    181545.233206\n",
            "24    181201.690490\n",
            "25    179775.164861\n",
            "26    195199.622146\n",
            "27    191673.113603\n",
            "28    207081.553802\n",
            "29    208177.536716\n",
            "dtype: float64\n"
          ]
        }
      ]
    },
    {
      "cell_type": "code",
      "source": [
        "mm=(error*error).sum()/30"
      ],
      "metadata": {
        "id": "9zVFt0m_wzS2"
      },
      "execution_count": 20,
      "outputs": []
    },
    {
      "cell_type": "code",
      "source": [
        "print(mm)"
      ],
      "metadata": {
        "colab": {
          "base_uri": "https://localhost:8080/"
        },
        "id": "j5JdJRJwxPer",
        "outputId": "6d776eae-da14-4822-f18f-5987d6e83dfa"
      },
      "execution_count": 21,
      "outputs": [
        {
          "output_type": "stream",
          "name": "stdout",
          "text": [
            "16924835307.510027\n"
          ]
        }
      ]
    },
    {
      "cell_type": "code",
      "source": [
        "wn=wnew-(0.01*2*(error.sum()/30))*df['YearsExperience'].sum()/30"
      ],
      "metadata": {
        "id": "8zHYAIR_xRgQ"
      },
      "execution_count": 22,
      "outputs": []
    },
    {
      "cell_type": "code",
      "source": [
        "print(wn)"
      ],
      "metadata": {
        "colab": {
          "base_uri": "https://localhost:8080/"
        },
        "id": "XvVTJRMAg7wI",
        "outputId": "85ee4d75-6462-4698-9c72-28542c401c5e"
      },
      "execution_count": 23,
      "outputs": [
        {
          "output_type": "stream",
          "name": "stdout",
          "text": [
            "-20872.252869132426\n"
          ]
        }
      ]
    },
    {
      "cell_type": "code",
      "source": [
        "wn0=wnew0-(0.01*2*(error.sum()/30))*df['YearsExperience'].sum()/30\n",
        "print(wn0)"
      ],
      "metadata": {
        "colab": {
          "base_uri": "https://localhost:8080/"
        },
        "id": "g2tyzl-ag9ic",
        "outputId": "0dbba719-9f19-4efd-960a-5cf22e2b783a"
      },
      "execution_count": 24,
      "outputs": [
        {
          "output_type": "stream",
          "name": "stdout",
          "text": [
            "-14316.27203268798\n"
          ]
        }
      ]
    },
    {
      "cell_type": "code",
      "source": [
        "yp=wn0*x0+wn*df['YearsExperience']\n",
        "print(yp)"
      ],
      "metadata": {
        "colab": {
          "base_uri": "https://localhost:8080/"
        },
        "id": "C5oYeBpfhPaX",
        "outputId": "fe525438-a79c-4de2-9749-ef6fa0d65df0"
      },
      "execution_count": 25,
      "outputs": [
        {
          "output_type": "stream",
          "name": "stdout",
          "text": [
            "0     -37275.750189\n",
            "1     -41450.200763\n",
            "2     -45624.651336\n",
            "3     -56060.777771\n",
            "4     -60235.228345\n",
            "5     -74845.805353\n",
            "6     -76933.030640\n",
            "7     -81107.481214\n",
            "8     -81107.481214\n",
            "9     -91543.607648\n",
            "10    -95718.058222\n",
            "11    -97805.283509\n",
            "12    -97805.283509\n",
            "13    -99892.508796\n",
            "14   -108241.409944\n",
            "15   -116590.311091\n",
            "16   -120764.761665\n",
            "17   -124939.212239\n",
            "18   -137462.563961\n",
            "19   -139549.789247\n",
            "20   -156247.591543\n",
            "21   -162509.267404\n",
            "22   -179207.069699\n",
            "23   -185468.745560\n",
            "24   -195904.871994\n",
            "25   -202166.547855\n",
            "26   -212602.674289\n",
            "27   -214689.899576\n",
            "28   -229300.476585\n",
            "29   -233474.927159\n",
            "Name: YearsExperience, dtype: float64\n"
          ]
        }
      ]
    },
    {
      "cell_type": "code",
      "source": [
        "error=y-yp\n",
        "print(error)"
      ],
      "metadata": {
        "colab": {
          "base_uri": "https://localhost:8080/"
        },
        "id": "dR6yhSexhdv2",
        "outputId": "e27405bf-d1c6-455b-f12a-d93174e1bbba"
      },
      "execution_count": 26,
      "outputs": [
        {
          "output_type": "stream",
          "name": "stdout",
          "text": [
            "0      76618.750189\n",
            "1      87655.200763\n",
            "2      83355.651336\n",
            "3      99585.777771\n",
            "4     100126.228345\n",
            "5     131487.805353\n",
            "6     137083.030640\n",
            "7     135552.481214\n",
            "8     145552.481214\n",
            "9     148732.607648\n",
            "10    158936.058222\n",
            "11    153599.283509\n",
            "12    154762.283509\n",
            "13    156973.508796\n",
            "14    169352.409944\n",
            "15    184528.311091\n",
            "16    186793.761665\n",
            "17    208027.212239\n",
            "18    218825.563961\n",
            "19    233489.789247\n",
            "20    247985.591543\n",
            "21    260782.267404\n",
            "22    280509.069699\n",
            "23    299280.745560\n",
            "24    305335.871994\n",
            "25    307748.547855\n",
            "26    329571.674289\n",
            "27    327324.899576\n",
            "28    351691.476585\n",
            "29    355346.927159\n",
            "dtype: float64\n"
          ]
        }
      ]
    },
    {
      "cell_type": "code",
      "source": [
        "mse=(error*error).sum()/30\n",
        "print(mse)"
      ],
      "metadata": {
        "colab": {
          "base_uri": "https://localhost:8080/"
        },
        "id": "GpB6Sm2XhinP",
        "outputId": "c2717f37-57ed-41f9-e1ce-0faa04205f21"
      },
      "execution_count": 28,
      "outputs": [
        {
          "output_type": "stream",
          "name": "stdout",
          "text": [
            "47678922169.59184\n"
          ]
        }
      ]
    },
    {
      "cell_type": "code",
      "source": [],
      "metadata": {
        "id": "e9EI4mMahtxS"
      },
      "execution_count": null,
      "outputs": []
    }
  ]
}